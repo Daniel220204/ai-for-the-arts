{
 "cells": [
  {
   "cell_type": "code",
   "execution_count": null,
   "metadata": {},
   "outputs": [],
   "source": []
  },
  {
   "cell_type": "markdown",
   "metadata": {},
   "source": [
    "# Learning Basic Programming Concepts\n",
    "\n",
    "This notebook is designed to help me understand and practice the fundamentals of programming. By working through various exercises and examples, I aim to develop a solid foundation that will enable me to tackle real-world programming tasks.\n",
    "\n",
    "## Objectives\n",
    "- Understand the basics of programming, such as variables, loops, and functions.\n",
    "- Learn how to solve problems algorithmically.\n",
    "- Gain confidence in writing and debugging code.\n",
    "- Explore specific programming tasks I’ve always wanted to do, such as:\n",
    "  - Automating repetitive tasks.\n",
    "  - Analyzing and visualizing data.\n",
    "  - Building simple interactive applications.\n"
   ]
  },
  {
   "cell_type": "markdown",
   "metadata": {},
   "source": [
    "# Hello, World! \n",
    "\n",
    "The following code was created as my first attempt at programming in this course. It is meant to help me understand how to write and run code in GitHub Codespaces."
   ]
  },
  {
   "cell_type": "code",
 "execution_count": 1,
   "metadata": {},
   "outputs": [
    {
     "name": "stdout",
     "output_type": "stream",
     "text": [
      "Hello, World!\n"
     ]
    }
   ],
   "source": [
    "print(\"Hello, World!\")"
   ]
  }
 ],
 "metadata": {
  "kernelspec": {
   "display_name": "Python 3",
   "language": "python",
   "name": "python3"
  },
  "language_info": {
   "codemirror_mode": {
    "name": "ipython",
    "version": 3
   },
   "file_extension": ".py",
   "mimetype": "text/x-python",
   "name": "python",
   "nbconvert_exporter": "python",
   "pygments_lexer": "ipython3",
   "version": "3.12.1"
  }
 },
 "nbformat": 4,
 "nbformat_minor": 2
}
