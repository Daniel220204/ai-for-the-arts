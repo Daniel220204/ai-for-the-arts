{
 "cells": [
  {
   "cell_type": "code",
   "execution_count": null,
   "metadata": {},
   "outputs": [],
   "source": []
  },
  {
   "cell_type": "markdown",
   "metadata": {},
   "source": [
    "# Learning Basic Programming Concepts\n",
    "\n",
    "This notebook is designed to help me understand and practice the fundamentals of programming. By working through various exercises and examples, I aim to develop a solid foundation that will enable me to tackle real-world programming tasks.\n",
    "\n",
    "## Objectives\n",
    "- Understand the basics of programming, such as variables, loops, and functions.\n",
    "- Learn how to solve problems algorithmically.\n",
    "- Gain confidence in writing and debugging code.\n",
    "- Explore specific programming tasks I’ve always wanted to do, such as:\n",
    "  - Automating repetitive tasks.\n",
    "  - Analyzing and visualizing data.\n",
    "  - Building simple interactive applications.\n"
   ]
  },
  {
   "cell_type": "markdown",
   "metadata": {},
   "source": [
    "# Hello, World! \n",
    "\n",
    "The following code was created as my first attempt at programming in this course. It is meant to help me understand how to write and run code in GitHub Codespaces."
   ]
  },
  {
   "cell_type": "code",
   "execution_count": 68,
   "metadata": {},
   "outputs": [
    {
     "name": "stdout",
     "output_type": "stream",
     "text": [
      "Hello, World!\n"
     ]
    }
   ],
   "source": [
    "print(\"Hello, World!\")"
   ]
  },
  {
   "cell_type": "markdown",
   "metadata": {},
   "source": [
    "# Learning Basic Programming Concepts\n",
    "\n",
    "This notebook is designed to help me understand and practice the fundamentals of programming. By working through various exercises and examples, I aim to develop a solid foundation that will enable me to tackle real-world programming tasks."
   ]
  },
  {
   "cell_type": "markdown",
   "metadata": {},
   "source": [
    "## Objectives\n",
    "- Understand the basics of programming, such as variables, loops, and functions.\n",
    "- Learn how to solve problems algorithmically.\n",
    "- Gain confidence in writing and debugging code.\n",
    "- Explore specific programming tasks I’ve always wanted to do, such as:\n",
    "  - Automating repetitive tasks.\n",
    "  - Analyzing and visualizing data.\n",
    "  - Building simple interactive applications."
   ]
  },
  {
   "cell_type": "markdown",
   "metadata": {},
   "source": [
    "# Hello, World! \n",
    "\n",
    "The following code was created as my first attempt at programming in this course. It is meant to help me understand how to write and run code in GitHub Codespaces."
   ]
  },
  {
   "cell_type": "code",
   "execution_count": 69,
   "metadata": {},
   "outputs": [
    {
     "name": "stdout",
     "output_type": "stream",
     "text": [
      "Hello, World!\n"
     ]
    }
   ],
   "source": [
    "print(\"Hello, World!\")"
   ]
  },
  {
   "cell_type": "markdown",
   "metadata": {},
   "source": [
    "# Part 2: Understanding Code"
   ]
  },
  {
   "cell_type": "markdown",
   "metadata": {},
   "source": [
    "## 1. Variables"
   ]
  },
  {
   "cell_type": "markdown",
   "metadata": {},
   "source": [
    "## Initial Prompt\n",
    "- **I posed a question to Copilot**： “Could you suggest a modification of the Python code for “Hello, world!” to demonstrate the concept of variables to a complete beginner in programming? Please explain the code step-by-step highlighting any key aspects.” Here's the answer I got from Copilot:"
   ]
  },
  {
   "cell_type": "code",
   "execution_count": 70,
   "metadata": {},
   "outputs": [
    {
     "name": "stdout",
     "output_type": "stream",
     "text": [
      "Hello, world!\n"
     ]
    }
   ],
   "source": [
    "# This is a comment. Comments are ignored by the Python interpreter.\n",
    "# They are used to explain the code.\n",
    "\n",
    "# We create a variable named 'greeting' and assign it the value \"Hello, world!\"\n",
    "\n",
    "greeting = \"Hello, world!\"\n",
    "\n",
    "# Now we use the print function to display the value of the 'greeting' variable\n",
    "print(greeting)"
   ]
  },
  {
   "cell_type": "markdown",
   "metadata": {},
   "source": [
    "## Suggested Prompts\n",
    "- **I posed another question to Copilot**：“Can you show another example?”"
   ]
  },
  {
   "cell_type": "code",
   "execution_count": 71,
   "metadata": {},
   "outputs": [
    {
     "name": "stdout",
     "output_type": "stream",
     "text": [
      "The sum of 5 and 10 is 15\n"
     ]
    }
   ],
   "source": [
    "# This is a comment. Comments are ignored by the Python interpreter.\n",
    "# They are used to explain the code.\n",
    "\n",
    "# We create two variables and assign them values\n",
    "number1 = 5\n",
    "number2 = 10\n",
    "\n",
    "# We create a third variable to store the sum of number1 and number2\n",
    "sum = number1 + number2\n",
    "\n",
    "# Now we use the print function to display the value of the 'sum' variable\n",
    "print(\"The sum of\", number1, \"and\", number2, \"is\", sum)"
   ]
  },
  {
   "cell_type": "markdown",
   "metadata": {},
   "source": [
    "## My own Prompts\n",
    "- **I posed another question to Copilot**：“Can you show me how to use variables with lists?”"
   ]
  },
  {
   "cell_type": "code",
   "execution_count": 72,
   "metadata": {},
   "outputs": [
    {
     "name": "stdout",
     "output_type": "stream",
     "text": [
      "Updated fruits list: ['apple', 'cherry', 'orange']\n"
     ]
    }
   ],
   "source": [
    "# This is a comment. Comments are ignored by the Python interpreter.\n",
    "# They are used to explain the code.\n",
    "\n",
    "# We create a list named 'fruits' and assign it some initial values\n",
    "fruits = [\"apple\", \"banana\", \"cherry\"]\n",
    "\n",
    "# We create a variable named 'new_fruit' and assign it the value \"orange\"\n",
    "new_fruit = \"orange\"\n",
    "\n",
    "# We use the append method to add 'new_fruit' to the 'fruits' list\n",
    "fruits.append(new_fruit)\n",
    "\n",
    "# We create a variable named 'remove_fruit' and assign it the value \"banana\"\n",
    "remove_fruit = \"banana\"\n",
    "\n",
    "# We use the remove method to remove 'remove_fruit' from the 'fruits' list\n",
    "fruits.remove(remove_fruit)\n",
    "\n",
    "# Now we use the print function to display the updated 'fruits' list\n",
    "print(\"Updated fruits list:\", fruits)"
   ]
  },
  {
   "cell_type": "markdown",
   "metadata": {},
   "source": [
    "## Key Learning Outcomes\n",
    "- **Variables**: Store data and make code flexible.\n",
    "- **Lists**: Store multiple items and allow dynamic modifications.\n",
    "- **Arithmetic Operations**: Perform calculations using variables.\n",
    "- **Comments**: Explain code logic for better understanding.\n",
    "- **Print Function**: Output data to the screen."
   ]
  },
  {
   "cell_type": "markdown",
   "metadata": {},
   "source": [
    "## 2. Functions"
   ]
  },
  {
   "cell_type": "markdown",
   "metadata": {},
   "source": [
    "## Initial Prompt\n",
    "- **I posed a question to Copilot**： “Could you suggest a modification of the Python code for “Hello, world!” to demonstrate the concept of functions to a complete beginner in programming? Please explain the code step-by-step highlighting any key aspects.” Here's the answer I got from Copilot："
   ]
  },
  {
   "cell_type": "code",
   "execution_count": 73,
   "metadata": {},
   "outputs": [
    {
     "name": "stdout",
     "output_type": "stream",
     "text": [
      "Hello, world!\n"
     ]
    }
   ],
   "source": [
    "# This is a comment. Comments are ignored by the Python interpreter.\n",
    "# They are used to explain the code.\n",
    "\n",
    "# We define a function named 'say_hello'\n",
    "def say_hello():\n",
    "    # Inside the function, we create a variable named 'greeting' and assign it the value \"Hello, world!\"\n",
    "    greeting = \"Hello, world!\"\n",
    "    # We use the print function to display the value of the 'greeting' variable\n",
    "    print(greeting)\n",
    "\n",
    "# We call the 'say_hello' function to execute the code inside it\n",
    "say_hello()"
   ]
  },
  {
   "cell_type": "markdown",
   "metadata": {},
   "source": [
    "## Suggested Prompts\n",
    "- **I posed another question to Copilot**：“Can you show me how to pass arguments to functions?”"
   ]
  },
  {
   "cell_type": "code",
   "execution_count": 74,
   "metadata": {},
   "outputs": [
    {
     "name": "stdout",
     "output_type": "stream",
     "text": [
      "Hello, Alice!\n",
      "Hello, Bob!\n"
     ]
    }
   ],
   "source": [
    "# This is a comment. Comments are ignored by the Python interpreter.\n",
    "# They are used to explain the code.\n",
    "\n",
    "# We define a function named 'greet' that takes one argument 'name'\n",
    "def greet(name):\n",
    "    # Inside the function, we create a variable named 'greeting' and assign it a personalized greeting\n",
    "    greeting = \"Hello, \" + name + \"!\"\n",
    "    # We use the print function to display the value of the 'greeting' variable\n",
    "    print(greeting)\n",
    "\n",
    "# We call the 'greet' function and pass the argument 'Alice' to it\n",
    "greet(\"Alice\")\n",
    "\n",
    "# We call the 'greet' function again and pass the argument 'Bob' to it\n",
    "greet(\"Bob\")"
   ]
  },
  {
   "cell_type": "markdown",
   "metadata": {},
   "source": [
    "## My own Prompts\n",
    "- **I posed another question to Copilot**：“What are keyword arguments in Python?”"
   ]
  },
  {
   "cell_type": "code",
   "execution_count": 75,
   "metadata": {},
   "outputs": [
    {
     "name": "stdout",
     "output_type": "stream",
     "text": [
      "Hi, Alice!\n",
      "Hello, Bob!\n"
     ]
    }
   ],
   "source": [
    "# This is a comment. Comments are ignored by the Python interpreter.\n",
    "# They are used to explain the code.\n",
    "\n",
    "# We define a function named 'greet' that takes two arguments 'name' and 'greeting'\n",
    "def greet(name, greeting=\"Hello\"):\n",
    "    # Inside the function, we create a variable named 'message' and assign it a personalized greeting\n",
    "    message = greeting + \", \" + name + \"!\"\n",
    "    # We use the print function to display the value of the 'message' variable\n",
    "    print(message)\n",
    "\n",
    "# We call the 'greet' function and pass the arguments using keyword arguments\n",
    "greet(name=\"Alice\", greeting=\"Hi\")\n",
    "\n",
    "# We call the 'greet' function again and use the default value for 'greeting'\n",
    "greet(name=\"Bob\")"
   ]
  },
  {
   "cell_type": "markdown",
   "metadata": {},
   "source": [
    "## Key Learning Outcomes: Functions\n",
    "- **Function Definition**: Use 'def' to define a function.\n",
    "- **Function Call**: Call a function using its name followed by parentheses.\n",
    "- **Variables in Functions**: Variables can be defined inside functions to store data.\n",
    "- **Code Modularity**: Functions organize code into reusable blocks.\n",
    "\n",
    "## Key Learning Outcomes: Functions with Arguments\n",
    "- **Function Arguments**: Functions can accept arguments to make them more flexible.\n",
    "- **String Concatenation**: Use '+' to join strings together.\n",
    "- **Passing Arguments**: Pass values to functions when calling them.\n",
    "\n",
    "## Key Learning Outcomes: Keyword Arguments\n",
    "- **Keyword Arguments**: Pass arguments using parameter names for better readability.\n",
    "- **Default Values**: Set default values for parameters in the function definition.\n",
    "- **Flexibility**: Keyword arguments and default values make functions more versatile."
   ]
  },
  {
   "cell_type": "markdown",
   "metadata": {},
   "source": [
    "# 3. Other Initial prompts to explore"
   ]
  },
  {
   "cell_type": "markdown",
   "metadata": {},
   "source": [
    "## 3.1 Initial prompt to understand loops:"
   ]
  },
  {
   "cell_type": "markdown",
   "metadata": {},
   "source": [
    "## Initial Prompt\n",
    "- **I posed a question to Copilot**： “Could you suggest a modification of the Python code for “Hello, world!” to demonstrate the concept of loops to a complete beginner in programming? Please explain the code step-by-step highlighting any key aspects.” Here's the answer I got from Copilot："
   ]
  },
  {
   "cell_type": "code",
   "execution_count": 95,
   "metadata": {},
   "outputs": [
    {
     "name": "stdout",
     "output_type": "stream",
     "text": [
      "Hello, world!\n",
      "Hello, world!\n",
      "Hello, world!\n",
      "Hello, world!\n",
      "Hello, world!\n"
     ]
    }
   ],
   "source": [
    "# This is a comment. Comments are ignored by the Python interpreter.\n",
    "# They are used to explain the code.\n",
    "\n",
    "# We define a variable named 'times' and assign it the value 5\n",
    "times = 5\n",
    "\n",
    "# We use a for loop to repeat the print statement\n",
    "for i  in range(times):\n",
    "    # Inside the loop, we print \"Hello, world!\"\n",
    "    print(\"Hello, world!\") "
   ]
  },
  {
   "cell_type": "markdown",
   "metadata": {},
   "source": [
    "## Suggested Prompts\n",
    "- **I posed another question to Copilot**：“Can you show me a while loop example?”"
   ]
  },
  {
   "cell_type": "code",
   "execution_count": 96,
   "metadata": {},
   "outputs": [
    {
     "name": "stdout",
     "output_type": "stream",
     "text": [
      "Hello, world!\n",
      "Hello, world!\n",
      "Hello, world!\n",
      "Hello, world!\n",
      "Hello, world!\n"
     ]
    }
   ],
   "source": [
    "# This is a comment. Comments are ignored by the Python interpreter.\n",
    "# They are used to explain the code.\n",
    "\n",
    "# We define a variable named 'count' and assign it the value 0\n",
    "count = 0\n",
    "\n",
    "# We define a variable named 'times' and assign it the value 5\n",
    "times = 5\n",
    "\n",
    "# We use a while loop to repeat the print statement\n",
    "while count < times:\n",
    "    # Inside the loop, we print \"Hello, world!\"\n",
    "    print(\"Hello, world!\")\n",
    "    # We increment the value of 'count' by 1\n",
    "    count += 1"
   ]
  },
  {
   "cell_type": "markdown",
   "metadata": {},
   "source": [
    "## My Own Prompts\n",
    "- **I posed another question to Copilot**：“Could you suggest a Python code that combines both ‘for’ and ’while‘ loops, and also includes user input? The program should ask the user how many times they want to print \"Hello, World!\" using a ‘for’ loop, and then ask the user if they want to continue printing more messages using a ‘while’ loop. Please explain the code step-by-step, highlighting any key aspects.”"
   ]
  },
  {
   "cell_type": "code",
   "execution_count": 97,
   "metadata": {},
   "outputs": [
    {
     "name": "stdout",
     "output_type": "stream",
     "text": [
      "Hello, World!\n",
      "Hello, World!\n",
      "Hello, World!\n",
      "Goodbye!\n"
     ]
    }
   ],
   "source": [
    "# This is a comment. Comments are ignored by the Python interpreter.\n",
    "# They are used to explain the code.\n",
    "\n",
    "# Ask the user how many times they want to print \"Hello, World!\" using a for loop\n",
    "times = int(input(\"How many times do you want to print 'Hello, World!' using a for loop? \"))\n",
    "\n",
    "# Use a for loop to print \"Hello, World!\" the specified number of times\n",
    "for i in range(times):\n",
    "    print(\"Hello, World!\")\n",
    "\n",
    "# Initialize a variable to control the while loop\n",
    "continue_printing = \"yes\"\n",
    "\n",
    "# Use a while loop to ask the user if they want to continue printing more messages\n",
    "while continue_printing.lower() == \"yes\":\n",
    "    # Ask the user how many more times they want to print \"Hello, World!\"\n",
    "    more_times = int(input(\"How many more times do you want to print 'Hello, World!'? \"))\n",
    "    \n",
    "    # Use a for loop to print \"Hello, World!\" the specified number of times\n",
    "    for i in range(more_times):\n",
    "        print(\"Hello, World!\")\n",
    "    \n",
    "    # Ask the user if they want to continue printing more messages\n",
    "    continue_printing = input(\"Do you want to continue printing more messages? (yes/no) \")\n",
    "\n",
    "    print(\"Goodbye!\")"
   ]
  },
  {
   "cell_type": "markdown",
   "metadata": {},
   "source": [
    "## Key Learning Outcomes: Loops\n",
    "- **`for` Loop**: Use `for` loops to repeat a block of code a specific number of times.\n",
    "- **`while` Loop**: Use `while` loops to repeat a block of code as long as a condition is true.\n",
    "- **Loop Control**: Use variables and conditions to control loop execution.\n",
    "- **Code Repetition**: Loops help automate repetitive tasks and make code more efficient."
   ]
  },
  {
   "cell_type": "markdown",
   "metadata": {},
   "source": [
    "## 3.2 Initial prompt to understand data structures such as lists:"
   ]
  },
  {
   "cell_type": "markdown",
   "metadata": {},
   "source": [
    "## Initial Prompt\n",
    "- **I posed a question to Copilot**： “Could you suggest a modification of the Python code for “Hello, world!” to demonstrate the concept of lists to a complete beginner in programming? Please explain the code step- by-step highlighting any key aspects.” Here's the answer I got from Copilot："
   ]
  },
  {
   "cell_type": "code",
   "execution_count": 98,
   "metadata": {},
   "outputs": [
    {
     "name": "stdout",
     "output_type": "stream",
     "text": [
      "Hello, world!\n",
      "Hi, there!\n",
      "Greetings!\n",
      "Salutations!\n",
      "Howdy!\n"
     ]
    }
   ],
   "source": [
    "# This is a comment. Comments are ignored by the Python interpreter.\n",
    "# They are used to explain the code.\n",
    "\n",
    "# We create a list named 'greetings' and assign it some initial values\n",
    "greetings = [\"Hello, world!\", \"Hi, there!\", \"Greetings!\", \"Salutations!\", \"Howdy!\"]\n",
    "\n",
    "# We use a for loop to iterate over each item in the 'greetings' list\n",
    "for greeting in greetings:\n",
    "# Inside the loop, we print each greeting\n",
    "    print(greeting)"
   ]
  },
  {
   "cell_type": "markdown",
   "metadata": {},
   "source": [
    "## Suggested Prompts\n",
    "- **I posed another question to Copilot**：“How do I remove an item from the list?”"
   ]
  },
  {
   "cell_type": "markdown",
   "metadata": {},
   "source": [
    "Using the remove Method:"
   ]
  },
  {
   "cell_type": "code",
   "execution_count": 99,
   "metadata": {},
   "outputs": [
    {
     "name": "stdout",
     "output_type": "stream",
     "text": [
      "Updated greetings list: ['Hello, world!', 'Hi, there!', 'Salutations!', 'Howdy!']\n"
     ]
    }
   ],
   "source": [
    "# This is a comment. Comments are ignored by the Python interpreter.\n",
    "# They are used to explain the code.\n",
    "\n",
    "# We create a list named 'greetings' and assign it some initial values\n",
    "greetings = [\"Hello, world!\", \"Hi, there!\", \"Greetings!\", \"Salutations!\", \"Howdy!\"]\n",
    "\n",
    "# We use the remove method to remove the item \"Greetings!\" from the list\n",
    "greetings.remove(\"Greetings!\")\n",
    "\n",
    "# Now we use the print function to display the updated 'greetings' list\n",
    "print(\"Updated greetings list:\", greetings)"
   ]
  },
  {
   "cell_type": "markdown",
   "metadata": {},
   "source": [
    "Using the pop Method:"
   ]
  },
  {
   "cell_type": "code",
   "execution_count": 100,
   "metadata": {},
   "outputs": [
    {
     "name": "stdout",
     "output_type": "stream",
     "text": [
      "Updated greetings list: ['Hello, world!', 'Hi, there!', 'Salutations!', 'Howdy!']\n"
     ]
    }
   ],
   "source": [
    "# This is a comment. Comments are ignored by the Python interpreter.\n",
    "# They are used to explain the code.\n",
    "\n",
    "# We create a list named 'greetings' and assign it some initial values\n",
    "greetings = [\"Hello, world!\", \"Hi, there!\", \"Greetings!\", \"Salutations!\", \"Howdy!\"]\n",
    "\n",
    "# We use the pop method to remove the item at index 2 (which is \"Greetings!\")\n",
    "greetings.pop(2)\n",
    "\n",
    "# Now we use the print function to display the updated 'greetings' list\n",
    "print(\"Updated greetings list:\", greetings)"
   ]
  },
  {
   "cell_type": "markdown",
   "metadata": {},
   "source": [
    "## My Own Prompts\n",
    "- **I posed another question to Copilot**：“Can you show me how to combine two lists in Python and then remove duplicate items? Please explain the code step-by-step, highlighting any key aspects?”"
   ]
  },
  {
   "cell_type": "code",
   "execution_count": 101,
   "metadata": {},
   "outputs": [
    {
     "name": "stdout",
     "output_type": "stream",
     "text": [
      "Combined list: ['apple', 'banana', 'cherry', 'banana', 'cherry', 'date', 'fig']\n",
      "Unique list: ['banana', 'apple', 'cherry', 'fig', 'date']\n"
     ]
    }
   ],
   "source": [
    "# This is a comment. Comments are ignored by the Python interpreter.\n",
    "# They are used to explain the code.\n",
    "\n",
    "# We create two lists named 'list1' and 'list2' and assign them some initial values\n",
    "list1 = [\"apple\", \"banana\", \"cherry\"]\n",
    "list2 = [\"banana\", \"cherry\", \"date\", \"fig\"]\n",
    "\n",
    "# We combine the two lists using the '+' operator\n",
    "combined_list = list1 + list2\n",
    "\n",
    "# We convert the combined list to a set to remove duplicate items\n",
    "unique_items = set(combined_list)\n",
    "\n",
    "# We convert the set back to a list\n",
    "unique_list = list(unique_items)\n",
    "\n",
    "# Now we use the print function to display the combined list and the unique list\n",
    "print(\"Combined list:\", combined_list)\n",
    "print(\"Unique list:\", unique_list)"
   ]
  },
  {
   "cell_type": "markdown",
   "metadata": {},
   "source": [
    "## Key Learning Outcomes\n",
    "- **Lists**: A list is an ordered collection of items.\n",
    "- Example: 'greetings = [\"Hello, world!\", \"Hi, there!\"]'.\n",
    "- **For Loop**: Used to iterate over each item in a list.\n",
    "- Example: 'for greeting in greetings: print(greeting)'.\n",
    "- **List Operations**: Add items with 'append()'. Remove items with 'remove()' or 'pop()'.\n",
    "- **Sets**: A set is an unordered collection of unique items.\n",
    "- Example: 'unique_items = set(combined_list)'."
   ]
  },
  {
   "cell_type": "markdown",
   "metadata": {},
   "source": [
    "## Initial prompt to understand data structures such as dictionaries:"
   ]
  },
  {
   "cell_type": "markdown",
   "metadata": {},
   "source": [
    "## Initial Prompt\n",
    "- **I posed a question to Copilot**： “Could you suggest a modification of the Python code for “Hello, world!” to demonstrate the concept of dictionaries to a complete beginner in programming? Please explain the code step-by-step highlighting any key aspects.” Here's the answer I got from Copilot:"
   ]
  },
  {
   "cell_type": "code",
   "execution_count": 102,
   "metadata": {},
   "outputs": [
    {
     "name": "stdout",
     "output_type": "stream",
     "text": [
      "English: Hello, world!\n",
      "Spanish: ¡Hola, mundo!\n",
      "French: Bonjour, le monde!\n",
      "German: Hallo, Welt!\n",
      "Japanese: こんにちは、世界！\n"
     ]
    }
   ],
   "source": [
    "# This is a comment. Comments are ignored by the Python interpreter.\n",
    "# They are used to explain the code.\n",
    "\n",
    "# We create a dictionary named 'greetings' and assign it some initial key-value pairs\n",
    "greetings = {\n",
    "    \"English\": \"Hello, world!\",\n",
    "    \"Spanish\": \"¡Hola, mundo!\",\n",
    "    \"French\": \"Bonjour, le monde!\",\n",
    "    \"German\": \"Hallo, Welt!\",\n",
    "    \"Japanese\": \"こんにちは、世界！\"\n",
    "}\n",
    "\n",
    "# We use a for loop to iterate over each key-value pair in the 'greetings' dictionary\n",
    "for language, greeting in greetings.items():\n",
    "    # Inside the loop, we print the language and the corresponding greeting\n",
    "    print(language + \": \" + greeting)"
   ]
  },
  {
   "cell_type": "markdown",
   "metadata": {},
   "source": [
    "## Suggested Prompts\n",
    "- **I posed another question to Copilot**：“How do I check if a language exists in the dictionary?”"
   ]
  },
  {
   "cell_type": "code",
   "execution_count": 103,
   "metadata": {},
   "outputs": [
    {
     "name": "stdout",
     "output_type": "stream",
     "text": [
      "French exists in the dictionary with the greeting: Bonjour, le monde!\n"
     ]
    }
   ],
   "source": [
    "# This is a comment. Comments are ignored by the Python interpreter.\n",
    "# They are used to explain the code.\n",
    "\n",
    "# We create a dictionary named 'greetings' and assign it some initial key-value pairs\n",
    "greetings = {\n",
    "    \"English\": \"Hello, world!\",\n",
    "    \"Spanish\": \"¡Hola, mundo!\",\n",
    "    \"French\": \"Bonjour, le monde!\",\n",
    "    \"German\": \"Hallo, Welt!\",\n",
    "    \"Japanese\": \"こんにちは、世界！\"\n",
    "}\n",
    "\n",
    "# We define a variable named 'language_to_check' and assign it the value of the language we want to check\n",
    "language_to_check = \"French\"\n",
    "\n",
    "# We use an if statement to check if 'language_to_check' exists in the 'greetings' dictionary\n",
    "if language_to_check in greetings:\n",
    "    # If the language exists, we print the corresponding greeting\n",
    "    print(language_to_check + \" exists in the dictionary with the greeting: \" + greetings[language_to_check])\n",
    "else:\n",
    "    # If the language does not exist, we print a message indicating it is not found\n",
    "    print(language_to_check + \" does not exist in the dictionary.\")"
   ]
  },
  {
   "cell_type": "markdown",
   "metadata": {},
   "source": [
    "## My Own Prompts\n",
    "- **I posed another question to Copilot**：“Could you modify the \"Hello, world!\" program to demonstrate how to use a dictionary to store greetings in multiple languages, and then allow the user to input a language to check if it exists in the dictionary? If the language exists, print the corresponding greeting; if not, ask the user to add a new greeting for that language and update the dictionary. Please explain the code step-by-step, highlighting any key aspects.”"
   ]
  },
  {
   "cell_type": "code",
   "execution_count": 104,
   "metadata": {},
   "outputs": [
    {
     "name": "stdout",
     "output_type": "stream",
     "text": [
      "Greeting for Franch added to the dictionary.\n",
      "Final greetings dictionary: {'English': 'Hello, world!', 'Spanish': '¡Hola, mundo!', 'French': 'Bonjour, le monde!', 'German': 'Hallo, Welt!', 'Japanese': 'こんにちは、世界！', 'Franch': 'exit'}\n"
     ]
    }
   ],
   "source": [
    "# This is a comment. Comments are ignored by the Python interpreter.\n",
    "# They are used to explain the code.\n",
    "\n",
    "# We create a dictionary named 'greetings' and assign it some initial key-value pairs\n",
    "greetings = {\n",
    "    \"English\": \"Hello, world!\",\n",
    "    \"Spanish\": \"¡Hola, mundo!\",\n",
    "    \"French\": \"Bonjour, le monde!\",\n",
    "    \"German\": \"Hallo, Welt!\",\n",
    "    \"Japanese\": \"こんにちは、世界！\"\n",
    "}\n",
    "\n",
    "# Function to check if a language exists in the dictionary and print the greeting or add a new greeting\n",
    "def check_and_add_greeting(language):\n",
    "    if language in greetings:\n",
    "        # If the language exists, print the corresponding greeting\n",
    "        print(language + \" exists in the dictionary with the greeting: \" + greetings[language])\n",
    "    else:\n",
    "        # If the language does not exist, ask the user to add a new greeting\n",
    "        new_greeting = input(\"The language \" + language + \" does not exist in the dictionary. Please enter a greeting for \" + language + \": \")\n",
    "        # Update the dictionary with the new greeting\n",
    "        greetings[language] = new_greeting\n",
    "        print(\"Greeting for \" + language + \" added to the dictionary.\")\n",
    "\n",
    "# Main loop to interact with the user\n",
    "while True:\n",
    "    # Ask the user to input a language\n",
    "    language = input(\"Enter a language to check (or type 'exit' to quit): \")\n",
    "    if language.lower() == 'exit':\n",
    "        break\n",
    "    # Call the function to check and add greeting\n",
    "    check_and_add_greeting(language)\n",
    "\n",
    "# Print the final dictionary\n",
    "print(\"Final greetings dictionary:\", greetings)"
   ]
  },
  {
   "cell_type": "markdown",
   "metadata": {},
   "source": [
    "## Key Learning Outcomes\n",
    "\n",
    "- **Dictionaries**: Store data in key-value pairs for efficient data management.\n",
    "- **Loops**: Iterate over dictionary items using 'for' loops and 'items()' method.\n",
    "- **Conditional Statements**: Use 'if' statements and 'in' keyword to check if a key exists in a dictionary.\n",
    "- **User Input**: Capture user input with 'input()' function for interactive programs.\n",
    "- **Functions**: Define reusable blocks of code with 'def' to perform specific tasks.\n",
    "- **Infinite Loop**: Create continuous interaction with 'while True' until a break condition is met.\n",
    "- **Dictionary Updates**: Dynamically add new key-value pairs to a dictionary using assignment."
   ]
  }
 ],
 "metadata": {
  "kernelspec": {
   "display_name": "Python 3",
   "language": "python",
   "name": "python3"
  },
  "language_info": {
   "codemirror_mode": {
    "name": "ipython",
    "version": 3
   },
   "file_extension": ".py",
   "mimetype": "text/x-python",
   "name": "python",
   "nbconvert_exporter": "python",
   "pygments_lexer": "ipython3",
   "version": "3.12.1"
  }
 },
 "nbformat": 4,
 "nbformat_minor": 2
}
