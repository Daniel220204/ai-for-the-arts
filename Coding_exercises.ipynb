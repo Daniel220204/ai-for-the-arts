{
 "cells": [
  {
   "cell_type": "code",
   "execution_count": null,
   "metadata": {},
   "outputs": [],
   "source": []
  },
  {
   "cell_type": "markdown",
   "metadata": {},
   "source": [
    "# Learning Basic Programming Concepts\n",
    "\n",
    "This notebook is designed to help me understand and practice the fundamentals of programming. By working through various exercises and examples, I aim to develop a solid foundation that will enable me to tackle real-world programming tasks.\n",
    "\n",
    "## Objectives\n",
    "- Understand the basics of programming, such as variables, loops, and functions.\n",
    "- Learn how to solve problems algorithmically.\n",
    "- Gain confidence in writing and debugging code.\n",
    "- Explore specific programming tasks I’ve always wanted to do, such as:\n",
    "  - Automating repetitive tasks.\n",
    "  - Analyzing and visualizing data.\n",
    "  - Building simple interactive applications.\n"
   ]
  },
  {
   "cell_type": "markdown",
   "metadata": {},
   "source": [
    "# Hello, World! \n",
    "\n",
    "The following code was created as my first attempt at programming in this course. It is meant to help me understand how to write and run code in GitHub Codespaces."
   ]
  },
  {
   "cell_type": "code",
   "execution_count": 43,
   "metadata": {},
   "outputs": [
    {
     "name": "stdout",
     "output_type": "stream",
     "text": [
      "Hello, World!\n"
     ]
    }
   ],
   "source": [
    "print(\"Hello, World!\")"
   ]
  },
  {
   "cell_type": "markdown",
   "metadata": {},
   "source": [
    "# Learning Basic Programming Concepts\n",
    "\n",
    "This notebook is designed to help me understand and practice the fundamentals of programming. By working through various exercises and examples, I aim to develop a solid foundation that will enable me to tackle real-world programming tasks."
   ]
  },
  {
   "cell_type": "markdown",
   "metadata": {},
   "source": [
    "## Objectives\n",
    "- Understand the basics of programming, such as variables, loops, and functions.\n",
    "- Learn how to solve problems algorithmically.\n",
    "- Gain confidence in writing and debugging code.\n",
    "- Explore specific programming tasks I’ve always wanted to do, such as:\n",
    "  - Automating repetitive tasks.\n",
    "  - Analyzing and visualizing data.\n",
    "  - Building simple interactive applications."
   ]
  },
  {
   "cell_type": "markdown",
   "metadata": {},
   "source": [
    "# Hello, World! \n",
    "\n",
    "The following code was created as my first attempt at programming in this course. It is meant to help me understand how to write and run code in GitHub Codespaces."
   ]
  },
  {
   "cell_type": "code",
   "execution_count": 44,
   "metadata": {},
   "outputs": [
    {
     "name": "stdout",
     "output_type": "stream",
     "text": [
      "Hello, World!\n"
     ]
    }
   ],
   "source": [
    "print(\"Hello, World!\")"
   ]
  },
  {
   "cell_type": "markdown",
   "metadata": {},
   "source": [
    "# Part 2: Understanding Code"
   ]
  },
  {
   "cell_type": "markdown",
   "metadata": {},
   "source": [
    "## 1. Variables"
   ]
  },
  {
   "cell_type": "markdown",
   "metadata": {},
   "source": [
    "## Initial Prompt\n",
    "- **I posed a question to Copilot**： “Could you suggest a modification of the Python code for “Hello, world!” to demonstrate the concept of variables to a complete beginner in programming? Please explain the code step-by-step highlighting any key aspects.” Here's the answer I got from Copilot:"
   ]
  },
  {
   "cell_type": "code",
   "execution_count": 45,
   "metadata": {},
   "outputs": [
    {
     "name": "stdout",
     "output_type": "stream",
     "text": [
      "Hello, world!\n"
     ]
    }
   ],
   "source": [
    "# This is a comment. Comments are ignored by the Python interpreter.\n",
    "# They are used to explain the code.\n",
    "\n",
    "# We create a variable named 'greeting' and assign it the value \"Hello, world!\"\n",
    "\n",
    "greeting = \"Hello, world!\"\n",
    "\n",
    "# Now we use the print function to display the value of the 'greeting' variable\n",
    "print(greeting)"
   ]
  },
  {
   "cell_type": "markdown",
   "metadata": {},
   "source": [
    "## Suggested Prompts\n",
    "- **I posed another question to Copilot**：“Can you show another example?”"
   ]
  },
  {
   "cell_type": "code",
   "execution_count": 46,
   "metadata": {},
   "outputs": [
    {
     "name": "stdout",
     "output_type": "stream",
     "text": [
      "The sum of 5 and 10 is 15\n"
     ]
    }
   ],
   "source": [
    "# This is a comment. Comments are ignored by the Python interpreter.\n",
    "# They are used to explain the code.\n",
    "\n",
    "# We create two variables and assign them values\n",
    "number1 = 5\n",
    "number2 = 10\n",
    "\n",
    "# We create a third variable to store the sum of number1 and number2\n",
    "sum = number1 + number2\n",
    "\n",
    "# Now we use the print function to display the value of the 'sum' variable\n",
    "print(\"The sum of\", number1, \"and\", number2, \"is\", sum)"
   ]
  },
  {
   "cell_type": "markdown",
   "metadata": {},
   "source": [
    "## My own Prompts\n",
    "- **I posed another question to Copilot**：“Can you show me how to use variables with lists?”"
   ]
  },
  {
   "cell_type": "code",
   "execution_count": 47,
   "metadata": {},
   "outputs": [
    {
     "name": "stdout",
     "output_type": "stream",
     "text": [
      "Updated fruits list: ['apple', 'cherry', 'orange']\n"
     ]
    }
   ],
   "source": [
    "# This is a comment. Comments are ignored by the Python interpreter.\n",
    "# They are used to explain the code.\n",
    "\n",
    "# We create a list named 'fruits' and assign it some initial values\n",
    "fruits = [\"apple\", \"banana\", \"cherry\"]\n",
    "\n",
    "# We create a variable named 'new_fruit' and assign it the value \"orange\"\n",
    "new_fruit = \"orange\"\n",
    "\n",
    "# We use the append method to add 'new_fruit' to the 'fruits' list\n",
    "fruits.append(new_fruit)\n",
    "\n",
    "# We create a variable named 'remove_fruit' and assign it the value \"banana\"\n",
    "remove_fruit = \"banana\"\n",
    "\n",
    "# We use the remove method to remove 'remove_fruit' from the 'fruits' list\n",
    "fruits.remove(remove_fruit)\n",
    "\n",
    "# Now we use the print function to display the updated 'fruits' list\n",
    "print(\"Updated fruits list:\", fruits)"
   ]
  },
  {
   "cell_type": "markdown",
   "metadata": {},
   "source": [
    "## Key Learning Outcomes\n",
    "- **Variables**: Store data and make code flexible.\n",
    "- **Lists**: Store multiple items and allow dynamic modifications.\n",
    "- **Arithmetic Operations**: Perform calculations using variables.\n",
    "- **Comments**: Explain code logic for better understanding.\n",
    "- **Print Function**: Output data to the screen."
   ]
  },
  {
   "cell_type": "markdown",
   "metadata": {},
   "source": [
    "## 2. Functions"
   ]
  },
  {
   "cell_type": "markdown",
   "metadata": {},
   "source": [
    "## Initial Prompt\n",
    "- **I posed a question to Copilot**： “Could you suggest a modification of the Python code for “Hello, world!” to demonstrate the concept of functions to a complete beginner in programming? Please explain the code step-by-step highlighting any key aspects.” Here's the answer I got from Copilot："
   ]
  },
  {
   "cell_type": "code",
   "execution_count": 48,
   "metadata": {},
   "outputs": [
    {
     "name": "stdout",
     "output_type": "stream",
     "text": [
      "Hello, world!\n"
     ]
    }
   ],
   "source": [
    "# This is a comment. Comments are ignored by the Python interpreter.\n",
    "# They are used to explain the code.\n",
    "\n",
    "# We define a function named 'say_hello'\n",
    "def say_hello():\n",
    "    # Inside the function, we create a variable named 'greeting' and assign it the value \"Hello, world!\"\n",
    "    greeting = \"Hello, world!\"\n",
    "    # We use the print function to display the value of the 'greeting' variable\n",
    "    print(greeting)\n",
    "\n",
    "# We call the 'say_hello' function to execute the code inside it\n",
    "say_hello()"
   ]
  },
  {
   "cell_type": "markdown",
   "metadata": {},
   "source": [
    "## Suggested Prompts\n",
    "- **I posed another question to Copilot**：“Can you show me how to pass arguments to functions?”"
   ]
  },
  {
   "cell_type": "code",
   "execution_count": 49,
   "metadata": {},
   "outputs": [
    {
     "name": "stdout",
     "output_type": "stream",
     "text": [
      "Hello, Alice!\n",
      "Hello, Bob!\n"
     ]
    }
   ],
   "source": [
    "# This is a comment. Comments are ignored by the Python interpreter.\n",
    "# They are used to explain the code.\n",
    "\n",
    "# We define a function named 'greet' that takes one argument 'name'\n",
    "def greet(name):\n",
    "    # Inside the function, we create a variable named 'greeting' and assign it a personalized greeting\n",
    "    greeting = \"Hello, \" + name + \"!\"\n",
    "    # We use the print function to display the value of the 'greeting' variable\n",
    "    print(greeting)\n",
    "\n",
    "# We call the 'greet' function and pass the argument 'Alice' to it\n",
    "greet(\"Alice\")\n",
    "\n",
    "# We call the 'greet' function again and pass the argument 'Bob' to it\n",
    "greet(\"Bob\")"
   ]
  },
  {
   "cell_type": "markdown",
   "metadata": {},
   "source": [
    "## My own Prompts\n",
    "- **I posed another question to Copilot**：“What are keyword arguments in Python?”"
   ]
  },
  {
   "cell_type": "code",
   "execution_count": 50,
   "metadata": {},
   "outputs": [
    {
     "name": "stdout",
     "output_type": "stream",
     "text": [
      "Hi, Alice!\n",
      "Hello, Bob!\n"
     ]
    }
   ],
   "source": [
    "# This is a comment. Comments are ignored by the Python interpreter.\n",
    "# They are used to explain the code.\n",
    "\n",
    "# We define a function named 'greet' that takes two arguments 'name' and 'greeting'\n",
    "def greet(name, greeting=\"Hello\"):\n",
    "    # Inside the function, we create a variable named 'message' and assign it a personalized greeting\n",
    "    message = greeting + \", \" + name + \"!\"\n",
    "    # We use the print function to display the value of the 'message' variable\n",
    "    print(message)\n",
    "\n",
    "# We call the 'greet' function and pass the arguments using keyword arguments\n",
    "greet(name=\"Alice\", greeting=\"Hi\")\n",
    "\n",
    "# We call the 'greet' function again and use the default value for 'greeting'\n",
    "greet(name=\"Bob\")"
   ]
  },
  {
   "cell_type": "markdown",
   "metadata": {},
   "source": [
    "## Key Learning Outcomes: Functions\n",
    "- **Function Definition**: Use 'def' to define a function.\n",
    "- **Function Call**: Call a function using its name followed by parentheses.\n",
    "- **Variables in Functions**: Variables can be defined inside functions to store data.\n",
    "- **Code Modularity**: Functions organize code into reusable blocks.\n",
    "\n",
    "## Key Learning Outcomes: Functions with Arguments\n",
    "- **Function Arguments**: Functions can accept arguments to make them more flexible.\n",
    "- **String Concatenation**: Use '+' to join strings together.\n",
    "- **Passing Arguments**: Pass values to functions when calling them.\n",
    "\n",
    "## Key Learning Outcomes: Keyword Arguments\n",
    "- **Keyword Arguments**: Pass arguments using parameter names for better readability.\n",
    "- **Default Values**: Set default values for parameters in the function definition.\n",
    "- **Flexibility**: Keyword arguments and default values make functions more versatile."
   ]
  },
  {
   "cell_type": "markdown",
   "metadata": {},
   "source": [
    "# 3. Other Initial prompts to explore"
   ]
  },
  {
   "cell_type": "markdown",
   "metadata": {},
   "source": [
    "## 3.1 Initial prompt to understand loops:"
   ]
  },
  {
   "cell_type": "markdown",
   "metadata": {},
   "source": [
    "## Initial Prompt\n",
    "- **I posed a question to Copilot**： “Could you suggest a modification of the Python code for “Hello, world!” to demonstrate the concept of loops to a complete beginner in programming? Please explain the code step-by-step highlighting any key aspects.” Here's the answer I got from Copilot："
   ]
  },
  {
   "cell_type": "code",
   "execution_count": 51,
   "metadata": {},
   "outputs": [
    {
     "name": "stdout",
     "output_type": "stream",
     "text": [
      "Hello, world!\n",
      "Hello, world!\n",
      "Hello, world!\n",
      "Hello, world!\n",
      "Hello, world!\n"
     ]
    }
   ],
   "source": [
    "# This is a comment. Comments are ignored by the Python interpreter.\n",
    "# They are used to explain the code.\n",
    "\n",
    "# We define a variable named 'times' and assign it the value 5\n",
    "times = 5\n",
    "\n",
    "# We use a for loop to repeat the print statement\n",
    "for i  in range(times):\n",
    "    # Inside the loop, we print \"Hello, world!\"\n",
    "    print(\"Hello, world!\") "
   ]
  },
  {
   "cell_type": "markdown",
   "metadata": {},
   "source": [
    "## Suggested Prompts\n",
    "- **I posed another question to Copilot**：“Can you show me a while loop example?”"
   ]
  },
  {
   "cell_type": "code",
   "execution_count": 52,
   "metadata": {},
   "outputs": [
    {
     "name": "stdout",
     "output_type": "stream",
     "text": [
      "Hello, world!\n",
      "Hello, world!\n",
      "Hello, world!\n",
      "Hello, world!\n",
      "Hello, world!\n"
     ]
    }
   ],
   "source": [
    "# This is a comment. Comments are ignored by the Python interpreter.\n",
    "# They are used to explain the code.\n",
    "\n",
    "# We define a variable named 'count' and assign it the value 0\n",
    "count = 0\n",
    "\n",
    "# We define a variable named 'times' and assign it the value 5\n",
    "times = 5\n",
    "\n",
    "# We use a while loop to repeat the print statement\n",
    "while count < times:\n",
    "    # Inside the loop, we print \"Hello, world!\"\n",
    "    print(\"Hello, world!\")\n",
    "    # We increment the value of 'count' by 1\n",
    "    count += 1"
   ]
  },
  {
   "cell_type": "markdown",
   "metadata": {},
   "source": [
    "## My Own Prompts\n",
    "- **I posed another question to Copilot**：“Could you suggest a Python code that combines both ‘for’ and ’while‘ loops, and also includes user input? The program should ask the user how many times they want to print \"Hello, World!\" using a ‘for’ loop, and then ask the user if they want to continue printing more messages using a ‘while’ loop. Please explain the code step-by-step, highlighting any key aspects.”"
   ]
  },
  {
   "cell_type": "code",
   "execution_count": 53,
   "metadata": {},
   "outputs": [
    {
     "name": "stdout",
     "output_type": "stream",
     "text": [
      "Hello, World!\n",
      "Hello, World!\n",
      "Hello, World!\n",
      "Hello, World!\n",
      "Hello, World!\n",
      "Goodbye!\n"
     ]
    }
   ],
   "source": [
    "# This is a comment. Comments are ignored by the Python interpreter.\n",
    "# They are used to explain the code.\n",
    "\n",
    "# Ask the user how many times they want to print \"Hello, World!\" using a for loop\n",
    "times = int(input(\"How many times do you want to print 'Hello, World!' using a for loop? \"))\n",
    "\n",
    "# Use a for loop to print \"Hello, World!\" the specified number of times\n",
    "for i in range(times):\n",
    "    print(\"Hello, World!\")\n",
    "\n",
    "# Initialize a variable to control the while loop\n",
    "continue_printing = \"yes\"\n",
    "\n",
    "# Use a while loop to ask the user if they want to continue printing more messages\n",
    "while continue_printing.lower() == \"yes\":\n",
    "    # Ask the user how many more times they want to print \"Hello, World!\"\n",
    "    more_times = int(input(\"How many more times do you want to print 'Hello, World!'? \"))\n",
    "    \n",
    "    # Use a for loop to print \"Hello, World!\" the specified number of times\n",
    "    for i in range(more_times):\n",
    "        print(\"Hello, World!\")\n",
    "    \n",
    "    # Ask the user if they want to continue printing more messages\n",
    "    continue_printing = input(\"Do you want to continue printing more messages? (yes/no) \")\n",
    "\n",
    "    print(\"Goodbye!\")"
   ]
  },
  {
   "cell_type": "markdown",
   "metadata": {},
   "source": [
    "## Key Learning Outcomes: Loops\n",
    "- **`for` Loop**: Use `for` loops to repeat a block of code a specific number of times.\n",
    "- **`while` Loop**: Use `while` loops to repeat a block of code as long as a condition is true.\n",
    "- **Loop Control**: Use variables and conditions to control loop execution.\n",
    "- **Code Repetition**: Loops help automate repetitive tasks and make code more efficient."
   ]
  },
  {
   "cell_type": "markdown",
   "metadata": {},
   "source": [
    "## 3.2 Initial prompt to understand data structures such as lists:"
   ]
  },
  {
   "cell_type": "markdown",
   "metadata": {},
   "source": [
    "## Initial Prompt\n",
    "- **I posed a question to Copilot**： “Could you suggest a modification of the Python code for “Hello, world!” to demonstrate the concept of lists to a complete beginner in programming? Please explain the code step- by-step highlighting any key aspects.” Here's the answer I got from Copilot："
   ]
  },
  {
   "cell_type": "code",
   "execution_count": 54,
   "metadata": {},
   "outputs": [
    {
     "name": "stdout",
     "output_type": "stream",
     "text": [
      "Hello, world!\n",
      "Hi, there!\n",
      "Greetings!\n",
      "Salutations!\n",
      "Howdy!\n"
     ]
    }
   ],
   "source": [
    "# This is a comment. Comments are ignored by the Python interpreter.\n",
    "# They are used to explain the code.\n",
    "\n",
    "# We create a list named 'greetings' and assign it some initial values\n",
    "greetings = [\"Hello, world!\", \"Hi, there!\", \"Greetings!\", \"Salutations!\", \"Howdy!\"]\n",
    "\n",
    "# We use a for loop to iterate over each item in the 'greetings' list\n",
    "for greeting in greetings:\n",
    "# Inside the loop, we print each greeting\n",
    "    print(greeting)"
   ]
  },
  {
   "cell_type": "markdown",
   "metadata": {},
   "source": [
    "## Suggested Prompts\n",
    "- **I posed another question to Copilot**：“How do I remove an item from the list?”"
   ]
  },
  {
   "cell_type": "markdown",
   "metadata": {},
   "source": [
    "Using the remove Method:"
   ]
  },
  {
   "cell_type": "code",
   "execution_count": 55,
   "metadata": {},
   "outputs": [
    {
     "name": "stdout",
     "output_type": "stream",
     "text": [
      "Updated greetings list: ['Hello, world!', 'Hi, there!', 'Salutations!', 'Howdy!']\n"
     ]
    }
   ],
   "source": [
    "# This is a comment. Comments are ignored by the Python interpreter.\n",
    "# They are used to explain the code.\n",
    "\n",
    "# We create a list named 'greetings' and assign it some initial values\n",
    "greetings = [\"Hello, world!\", \"Hi, there!\", \"Greetings!\", \"Salutations!\", \"Howdy!\"]\n",
    "\n",
    "# We use the remove method to remove the item \"Greetings!\" from the list\n",
    "greetings.remove(\"Greetings!\")\n",
    "\n",
    "# Now we use the print function to display the updated 'greetings' list\n",
    "print(\"Updated greetings list:\", greetings)"
   ]
  },
  {
   "cell_type": "markdown",
   "metadata": {},
   "source": [
    "Using the pop Method:"
   ]
  },
  {
   "cell_type": "code",
   "execution_count": 56,
   "metadata": {},
   "outputs": [
    {
     "name": "stdout",
     "output_type": "stream",
     "text": [
      "Updated greetings list: ['Hello, world!', 'Hi, there!', 'Salutations!', 'Howdy!']\n"
     ]
    }
   ],
   "source": [
    "# This is a comment. Comments are ignored by the Python interpreter.\n",
    "# They are used to explain the code.\n",
    "\n",
    "# We create a list named 'greetings' and assign it some initial values\n",
    "greetings = [\"Hello, world!\", \"Hi, there!\", \"Greetings!\", \"Salutations!\", \"Howdy!\"]\n",
    "\n",
    "# We use the pop method to remove the item at index 2 (which is \"Greetings!\")\n",
    "greetings.pop(2)\n",
    "\n",
    "# Now we use the print function to display the updated 'greetings' list\n",
    "print(\"Updated greetings list:\", greetings)"
   ]
  },
  {
   "cell_type": "markdown",
   "metadata": {},
   "source": [
    "## My Own Prompts\n",
    "- **I posed another question to Copilot**：“Can you show me how to combine two lists in Python and then remove duplicate items? Please explain the code step-by-step, highlighting any key aspects?”"
   ]
  },
  {
   "cell_type": "code",
   "execution_count": 57,
   "metadata": {},
   "outputs": [
    {
     "name": "stdout",
     "output_type": "stream",
     "text": [
      "Combined list: ['apple', 'banana', 'cherry', 'banana', 'cherry', 'date', 'fig']\n",
      "Unique list: ['fig', 'cherry', 'date', 'banana', 'apple']\n"
     ]
    }
   ],
   "source": [
    "# This is a comment. Comments are ignored by the Python interpreter.\n",
    "# They are used to explain the code.\n",
    "\n",
    "# We create two lists named 'list1' and 'list2' and assign them some initial values\n",
    "list1 = [\"apple\", \"banana\", \"cherry\"]\n",
    "list2 = [\"banana\", \"cherry\", \"date\", \"fig\"]\n",
    "\n",
    "# We combine the two lists using the '+' operator\n",
    "combined_list = list1 + list2\n",
    "\n",
    "# We convert the combined list to a set to remove duplicate items\n",
    "unique_items = set(combined_list)\n",
    "\n",
    "# We convert the set back to a list\n",
    "unique_list = list(unique_items)\n",
    "\n",
    "# Now we use the print function to display the combined list and the unique list\n",
    "print(\"Combined list:\", combined_list)\n",
    "print(\"Unique list:\", unique_list)"
   ]
  },
  {
   "cell_type": "markdown",
   "metadata": {},
   "source": [
    "## Key Learning Outcomes\n",
    "- **Lists**: A list is an ordered collection of items.\n",
    "- Example: 'greetings = [\"Hello, world!\", \"Hi, there!\"]'.\n",
    "- **For Loop**: Used to iterate over each item in a list.\n",
    "- Example: 'for greeting in greetings: print(greeting)'.\n",
    "- **List Operations**: Add items with 'append()'. Remove items with 'remove()' or 'pop()'.\n",
    "- **Sets**: A set is an unordered collection of unique items.\n",
    "- Example: 'unique_items = set(combined_list)'."
   ]
  },
  {
   "cell_type": "markdown",
   "metadata": {},
   "source": [
    "## 3.3 Initial prompt to understand data structures such as dictionaries:"
   ]
  },
  {
   "cell_type": "markdown",
   "metadata": {},
   "source": [
    "## Initial Prompt\n",
    "- **I posed a question to Copilot**： “Could you suggest a modification of the Python code for “Hello, world!” to demonstrate the concept of dictionaries to a complete beginner in programming? Please explain the code step-by-step highlighting any key aspects.” Here's the answer I got from Copilot:"
   ]
  },
  {
   "cell_type": "code",
   "execution_count": 58,
   "metadata": {},
   "outputs": [
    {
     "name": "stdout",
     "output_type": "stream",
     "text": [
      "English: Hello, world!\n",
      "Spanish: ¡Hola, mundo!\n",
      "French: Bonjour, le monde!\n",
      "German: Hallo, Welt!\n",
      "Japanese: こんにちは、世界！\n"
     ]
    }
   ],
   "source": [
    "# This is a comment. Comments are ignored by the Python interpreter.\n",
    "# They are used to explain the code.\n",
    "\n",
    "# We create a dictionary named 'greetings' and assign it some initial key-value pairs\n",
    "greetings = {\n",
    "    \"English\": \"Hello, world!\",\n",
    "    \"Spanish\": \"¡Hola, mundo!\",\n",
    "    \"French\": \"Bonjour, le monde!\",\n",
    "    \"German\": \"Hallo, Welt!\",\n",
    "    \"Japanese\": \"こんにちは、世界！\"\n",
    "}\n",
    "\n",
    "# We use a for loop to iterate over each key-value pair in the 'greetings' dictionary\n",
    "for language, greeting in greetings.items():\n",
    "    # Inside the loop, we print the language and the corresponding greeting\n",
    "    print(language + \": \" + greeting)"
   ]
  },
  {
   "cell_type": "markdown",
   "metadata": {},
   "source": [
    "## Suggested Prompts\n",
    "- **I posed another question to Copilot**：“How do I check if a language exists in the dictionary?”"
   ]
  },
  {
   "cell_type": "code",
   "execution_count": 59,
   "metadata": {},
   "outputs": [
    {
     "name": "stdout",
     "output_type": "stream",
     "text": [
      "French exists in the dictionary with the greeting: Bonjour, le monde!\n"
     ]
    }
   ],
   "source": [
    "# This is a comment. Comments are ignored by the Python interpreter.\n",
    "# They are used to explain the code.\n",
    "\n",
    "# We create a dictionary named 'greetings' and assign it some initial key-value pairs\n",
    "greetings = {\n",
    "    \"English\": \"Hello, world!\",\n",
    "    \"Spanish\": \"¡Hola, mundo!\",\n",
    "    \"French\": \"Bonjour, le monde!\",\n",
    "    \"German\": \"Hallo, Welt!\",\n",
    "    \"Japanese\": \"こんにちは、世界！\"\n",
    "}\n",
    "\n",
    "# We define a variable named 'language_to_check' and assign it the value of the language we want to check\n",
    "language_to_check = \"French\"\n",
    "\n",
    "# We use an if statement to check if 'language_to_check' exists in the 'greetings' dictionary\n",
    "if language_to_check in greetings:\n",
    "    # If the language exists, we print the corresponding greeting\n",
    "    print(language_to_check + \" exists in the dictionary with the greeting: \" + greetings[language_to_check])\n",
    "else:\n",
    "    # If the language does not exist, we print a message indicating it is not found\n",
    "    print(language_to_check + \" does not exist in the dictionary.\")"
   ]
  },
  {
   "cell_type": "markdown",
   "metadata": {},
   "source": [
    "## My Own Prompts\n",
    "- **I posed another question to Copilot**：“Could you modify the \"Hello, world!\" program to demonstrate how to use a dictionary to store greetings in multiple languages, and then allow the user to input a language to check if it exists in the dictionary? If the language exists, print the corresponding greeting; if not, ask the user to add a new greeting for that language and update the dictionary. Please explain the code step-by-step, highlighting any key aspects.”"
   ]
  },
  {
   "cell_type": "code",
   "execution_count": 60,
   "metadata": {},
   "outputs": [
    {
     "name": "stdout",
     "output_type": "stream",
     "text": [
      "Final greetings dictionary: {'English': 'Hello, world!', 'Spanish': '¡Hola, mundo!', 'French': 'Bonjour, le monde!', 'German': 'Hallo, Welt!', 'Japanese': 'こんにちは、世界！'}\n"
     ]
    }
   ],
   "source": [
    "# This is a comment. Comments are ignored by the Python interpreter.\n",
    "# They are used to explain the code.\n",
    "\n",
    "# We create a dictionary named 'greetings' and assign it some initial key-value pairs\n",
    "greetings = {\n",
    "    \"English\": \"Hello, world!\",\n",
    "    \"Spanish\": \"¡Hola, mundo!\",\n",
    "    \"French\": \"Bonjour, le monde!\",\n",
    "    \"German\": \"Hallo, Welt!\",\n",
    "    \"Japanese\": \"こんにちは、世界！\"\n",
    "}\n",
    "\n",
    "# Function to check if a language exists in the dictionary and print the greeting or add a new greeting\n",
    "def check_and_add_greeting(language):\n",
    "    if language in greetings:\n",
    "        # If the language exists, print the corresponding greeting\n",
    "        print(language + \" exists in the dictionary with the greeting: \" + greetings[language])\n",
    "    else:\n",
    "        # If the language does not exist, ask the user to add a new greeting\n",
    "        new_greeting = input(\"The language \" + language + \" does not exist in the dictionary. Please enter a greeting for \" + language + \": \")\n",
    "        # Update the dictionary with the new greeting\n",
    "        greetings[language] = new_greeting\n",
    "        print(\"Greeting for \" + language + \" added to the dictionary.\")\n",
    "\n",
    "# Main loop to interact with the user\n",
    "while True:\n",
    "    # Ask the user to input a language\n",
    "    language = input(\"Enter a language to check (or type 'exit' to quit): \")\n",
    "    if language.lower() == 'exit':\n",
    "        break\n",
    "    # Call the function to check and add greeting\n",
    "    check_and_add_greeting(language)\n",
    "\n",
    "# Print the final dictionary\n",
    "print(\"Final greetings dictionary:\", greetings)"
   ]
  },
  {
   "cell_type": "markdown",
   "metadata": {},
   "source": [
    "## Key Learning Outcomes\n",
    "\n",
    "- **Dictionaries**: Store data in key-value pairs for efficient data management.\n",
    "- **Loops**: Iterate over dictionary items using 'for' loops and 'items()' method.\n",
    "- **Conditional Statements**: Use 'if' statements and 'in' keyword to check if a key exists in a dictionary.\n",
    "- **User Input**: Capture user input with 'input()' function for interactive programs.\n",
    "- **Functions**: Define reusable blocks of code with 'def' to perform specific tasks.\n",
    "- **Infinite Loop**: Create continuous interaction with 'while True' until a break condition is met.\n",
    "- **Dictionary Updates**: Dynamically add new key-value pairs to a dictionary using assignment."
   ]
  },
  {
   "cell_type": "markdown",
   "metadata": {},
   "source": [
    "## 3.4 Initial prompt to understand data structures such as arrays: "
   ]
  },
  {
   "cell_type": "markdown",
   "metadata": {},
   "source": [
    "## Initial Prompt\n",
    "- **I posed a question to Copilot**： “Could you suggest a modification of the Python code for “Hello, world!” to demonstrate the concept of arrays to a complete beginner in programming? Please explain the code step-by-step highlighting any key aspects.” Here's the answer I got from Copilot:"
   ]
  },
  {
   "cell_type": "code",
   "execution_count": 61,
   "metadata": {},
   "outputs": [
    {
     "name": "stdout",
     "output_type": "stream",
     "text": [
      "Hello, World!\n",
      "Hi there!\n",
      "Greetings!\n",
      "Welcome!\n"
     ]
    }
   ],
   "source": [
    "# This is a Python program that uses an array (list) to store multiple greetings\n",
    "# and then prints each greeting.\n",
    "\n",
    "# Step 1: Define an array (list) of greetings\n",
    "greetings = [\"Hello, World!\", \"Hi there!\", \"Greetings!\", \"Welcome!\"]\n",
    "\n",
    "# Step 2: Use a loop to go through each item in the array and print it\n",
    "for greeting in greetings:\n",
    "    print(greeting)"
   ]
  },
  {
   "cell_type": "markdown",
   "metadata": {},
   "source": [
    "## Suggested Prompts\n",
    "- **I posed another question to Copilot**：“How do I sort a list in Python?”"
   ]
  },
  {
   "cell_type": "markdown",
   "metadata": {},
   "source": [
    "Using sort() Method\n",
    "\n",
    "The sort() method sorts the list in place, meaning it modifies the original list."
   ]
  },
  {
   "cell_type": "code",
   "execution_count": 62,
   "metadata": {},
   "outputs": [
    {
     "name": "stdout",
     "output_type": "stream",
     "text": [
      "[1, 2, 4, 9]\n"
     ]
    }
   ],
   "source": [
    "numbers = [4, 2, 9, 1]\n",
    "numbers.sort()\n",
    "print(numbers)  # Output: [1, 2, 4, 9]"
   ]
  },
  {
   "cell_type": "markdown",
   "metadata": {},
   "source": [
    "Using sorted() Function\n",
    "\n",
    "The sorted() function returns a new sorted list and does not modify the original list."
   ]
  },
  {
   "cell_type": "code",
   "execution_count": 63,
   "metadata": {},
   "outputs": [
    {
     "name": "stdout",
     "output_type": "stream",
     "text": [
      "[1, 2, 4, 9]\n",
      "[4, 2, 9, 1]\n"
     ]
    }
   ],
   "source": [
    "numbers = [4, 2, 9, 1]\n",
    "sorted_numbers = sorted(numbers)\n",
    "print(sorted_numbers)  # Output: [1, 2, 4, 9]\n",
    "print(numbers)  # Output: [4, 2, 9, 1] (original list remains unchanged)"
   ]
  },
  {
   "cell_type": "markdown",
   "metadata": {},
   "source": [
    "Sorting in Reverse Order\n",
    "\n",
    "You can sort the list in descending order by using the reverse=True parameter."
   ]
  },
  {
   "cell_type": "code",
   "execution_count": 64,
   "metadata": {},
   "outputs": [
    {
     "name": "stdout",
     "output_type": "stream",
     "text": [
      "[9, 4, 2, 1]\n"
     ]
    }
   ],
   "source": [
    "numbers = [4, 2, 9, 1]\n",
    "numbers.sort(reverse=True)\n",
    "print(numbers)  # Output: [9, 4, 2, 1]"
   ]
  },
  {
   "cell_type": "markdown",
   "metadata": {},
   "source": [
    "Sorting a List of Strings\n",
    "\n",
    "You can also sort lists containing strings."
   ]
  },
  {
   "cell_type": "code",
   "execution_count": 65,
   "metadata": {},
   "outputs": [
    {
     "name": "stdout",
     "output_type": "stream",
     "text": [
      "['Greetings!', 'Hello, World!', 'Hi there!', 'Welcome!']\n"
     ]
    }
   ],
   "source": [
    "greetings = [\"Hello, World!\", \"Hi there!\", \"Greetings!\", \"Welcome!\"]\n",
    "greetings.sort()\n",
    "print(greetings)  # Output: ['Greetings!', 'Hello, World!', 'Hi there!', 'Welcome!']"
   ]
  },
  {
   "cell_type": "markdown",
   "metadata": {},
   "source": [
    "## My Own Prompts\n",
    "- **I posed another question to Copilot**：“Could you show me how to combine these two concepts - first storing multiple messages in a list like the greetings example, then sorting them alphabetically before printing? Please explain the code step-by-step, highlighting any key aspects.”"
   ]
  },
  {
   "cell_type": "code",
   "execution_count": 66,
   "metadata": {},
   "outputs": [
    {
     "name": "stdout",
     "output_type": "stream",
     "text": [
      "Greetings!\n",
      "Hello, World!\n",
      "Hi there!\n",
      "Welcome!\n"
     ]
    }
   ],
   "source": [
    "# This is a Python program that stores multiple greetings in a list,\n",
    "# sorts them alphabetically, and then prints each greeting.\n",
    "\n",
    "# Step 1: Define an array (list) of greetings\n",
    "greetings = [\"Hello, World!\", \"Hi there!\", \"Greetings!\", \"Welcome!\"]\n",
    "\n",
    "# Step 2: Sort the list alphabetically\n",
    "greetings.sort()\n",
    "\n",
    "# Step 3: Use a loop to go through each item in the sorted list and print it\n",
    "for greeting in greetings:\n",
    "    print(greeting)"
   ]
  },
  {
   "cell_type": "markdown",
   "metadata": {},
   "source": [
    "## Key Learning Outcomes  \n",
    "- **Lists**: Ordered, mutable collections defined with `[]`.  \n",
    "- **Loops**: `for item in list:` iterates through items.  \n",
    "- **Sorting**: `sort()` modifies the list; `sorted()` returns a new list. "
   ]
  },
  {
   "cell_type": "markdown",
   "metadata": {},
   "source": [
    "## 3.5 Initial prompt to understand how to import libraries that extend functionality:"
   ]
  },
  {
   "cell_type": "markdown",
   "metadata": {},
   "source": [
    "## Initial Prompt\n",
    "- **I posed a question to Copilot**： “Could you suggest a modification of the Python code for “Hello, world!” to demonstrate the concept of importing libraries to a complete beginner in programming? Please explain the code step-by-step highlighting any key aspects.” Here's the answer I got from Copilot:"
   ]
  },
  {
   "cell_type": "code",
   "execution_count": 67,
   "metadata": {},
   "outputs": [
    {
     "name": "stdout",
     "output_type": "stream",
     "text": [
      "Hello, World!\n",
      "Current date and time: 2025-04-15 07:05:34.394723\n"
     ]
    }
   ],
   "source": [
    "# This is a Python program that uses the datetime library to print the current date and time\n",
    "# along with a greeting message.\n",
    "\n",
    "# Step 1: Import the datetime library\n",
    "import datetime\n",
    "\n",
    "# Step 2: Get the current date and time\n",
    "current_datetime = datetime.datetime.now()\n",
    "\n",
    "# Step 3: Print the greeting message along with the current date and time\n",
    "print(\"Hello, World!\")\n",
    "print(\"Current date and time:\", current_datetime)"
   ]
  },
  {
   "cell_type": "markdown",
   "metadata": {},
   "source": [
    "## Suggested Prompts\n",
    "- **I posed another question to Copilot**：“Can you show me how to use another library?” Here's the answer I got from Copilot:"
   ]
  },
  {
   "cell_type": "code",
   "execution_count": 68,
   "metadata": {},
   "outputs": [
    {
     "name": "stdout",
     "output_type": "stream",
     "text": [
      "Hello, World!\n"
     ]
    }
   ],
   "source": [
    "# This is a Python program that uses the random library to select a random greeting from a list.\n",
    "\n",
    "# Step 1: Import the random library\n",
    "import random\n",
    "\n",
    "# Step 2: Define an array (list) of greetings\n",
    "greetings = [\"Hello, World!\", \"Hi there!\", \"Greetings!\", \"Welcome!\"]\n",
    "\n",
    "# Step 3: Use the random.choice() function to select a random greeting\n",
    "random_greeting = random.choice(greetings)\n",
    "\n",
    "# Step 4: Print the randomly selected greeting\n",
    "print(random_greeting)"
   ]
  },
  {
   "cell_type": "markdown",
   "metadata": {},
   "source": [
    "## My Own Prompts\n",
    "- **I posed another question to Copilot**：“Can you show me how to combine both the datetime and random libraries in one program? For example, could you print a random greeting from a list along with the current date and time? Please explain the code step-by-step, highlighting any key aspects.” Here's the answer I got from Copilot:"
   ]
  },
  {
   "cell_type": "code",
   "execution_count": 69,
   "metadata": {},
   "outputs": [
    {
     "name": "stdout",
     "output_type": "stream",
     "text": [
      "Hi there!\n",
      "Current date and time: 2025-04-15 07:05:34.407153\n"
     ]
    }
   ],
   "source": [
    "# This is a Python program that uses both the datetime and random libraries\n",
    "# to print a random greeting along with the current date and time.\n",
    "\n",
    "# Step 1: Import the datetime and random libraries\n",
    "import datetime\n",
    "import random\n",
    "\n",
    "# Step 2: Define an array (list) of greetings\n",
    "greetings = [\"Hello, World!\", \"Hi there!\", \"Greetings!\", \"Welcome!\"]\n",
    "\n",
    "# Step 3: Use the random.choice() function to select a random greeting\n",
    "random_greeting = random.choice(greetings)\n",
    "\n",
    "# Step 4: Get the current date and time\n",
    "current_datetime = datetime.datetime.now()\n",
    "\n",
    "# Step 5: Print the randomly selected greeting along with the current date and time\n",
    "print(random_greeting)\n",
    "print(\"Current date and time:\", current_datetime)"
   ]
  },
  {
   "cell_type": "markdown",
   "metadata": {},
   "source": [
    "## Key Learning Outcomes\n",
    "- **Importing Libraries**: Use `import library_name` to bring in built-in Python libraries such as `datetime` and `random`.\n",
    "- **Datetime Library**: `datetime.datetime.now()` retrieves the current date and time from the system.\n",
    "- **Random Library**: `random.choice(list)` selects a random element from a list, adding variation to program output.\n",
    "- **Combining Libraries**: Multiple libraries can be imported and used together in a single program to create richer functionality (e.g., random greeting + current time)."
   ]
  },
  {
   "cell_type": "markdown",
   "metadata": {},
   "source": [
    "## 3.6 Initial prompt to understand how to use conditional if, else, elif statements:"
   ]
  },
  {
   "cell_type": "markdown",
   "metadata": {},
   "source": [
    "## Initial Prompt\n",
    "- **I posed a question to Copilot**： “Could you suggest a modification of the Python code for “Hello, world!” to demonstrate the concepts of if, elif, and else statements to a complete beginner in programming? Please explain the code step-by-step highlighting any key aspects.” Here's the answer I got from Copilot:"
   ]
  },
  {
   "cell_type": "code",
   "execution_count": 70,
   "metadata": {},
   "outputs": [
    {
     "name": "stdout",
     "output_type": "stream",
     "text": [
      "Good afternoon, world!\n"
     ]
    }
   ],
   "source": [
    "# This program prints different greetings based on the time of day\n",
    "\n",
    "# Define a variable for the time of day\n",
    "time_of_day = \"afternoon\"\n",
    "\n",
    "# Check the value of time_of_day and print the appropriate greeting\n",
    "if time_of_day == \"morning\":\n",
    "    print(\"Good morning, world!\")\n",
    "elif time_of_day == \"afternoon\":\n",
    "    print(\"Good afternoon, world!\")\n",
    "elif time_of_day == \"evening\":\n",
    "    print(\"Good evening, world!\")\n",
    "else:\n",
    "    print(\"Hello, world!\")\n"
   ]
  },
  {
   "cell_type": "markdown",
   "metadata": {},
   "source": [
    "## Suggested Prompts\n",
    "- **I posed another question to Copilot**：“What if I change time_of_day to 'night'?” Here's the answer I got from Copilot:"
   ]
  },
  {
   "cell_type": "code",
   "execution_count": 71,
   "metadata": {},
   "outputs": [
    {
     "name": "stdout",
     "output_type": "stream",
     "text": [
      "Good afternoon, world!\n"
     ]
    }
   ],
   "source": [
    "# Define a variable for the time of day\n",
    "# time_of_day = \"night\"\n",
    "\n",
    "# Check the value of time_of_day and print the appropriate greeting\n",
    "if time_of_day == \"morning\":\n",
    "    print(\"Good morning, world!\")\n",
    "elif time_of_day == \"afternoon\":\n",
    "    print(\"Good afternoon, world!\")\n",
    "elif time_of_day == \"evening\":\n",
    "    print(\"Good evening, world!\")\n",
    "else:\n",
    "    print(\"Hello, world!\")\n"
   ]
  },
  {
   "cell_type": "markdown",
   "metadata": {},
   "source": [
    "## My Own Prompts\n",
    "- **I posed another question to Copilot**：“What if I want to add a greeting for 'night'?” Here's the answer I got from Copilot:"
   ]
  },
  {
   "cell_type": "code",
   "execution_count": 72,
   "metadata": {},
   "outputs": [
    {
     "name": "stdout",
     "output_type": "stream",
     "text": [
      "Good night, world!\n"
     ]
    }
   ],
   "source": [
    "# Define a variable for the time of day\n",
    "time_of_day = \"night\"\n",
    "\n",
    "# Check the value of time_of_day and print the appropriate greeting\n",
    "if time_of_day == \"morning\":\n",
    "    print(\"Good morning, world!\")\n",
    "elif time_of_day == \"afternoon\":\n",
    "    print(\"Good afternoon, world!\")\n",
    "elif time_of_day == \"evening\":\n",
    "    print(\"Good evening, world!\")\n",
    "elif time_of_day == \"night\":\n",
    "    print(\"Good night, world!\")\n",
    "else:\n",
    "    print(\"Hello, world!\")\n"
   ]
  },
  {
   "cell_type": "markdown",
   "metadata": {},
   "source": [
    "## Key Learning Outcomes\n",
    "- **Conditional Statements**: Use `if`, `elif`, and `else` to control the flow of a program based on different conditions.\n",
    "- **Variable Assignment**: Assign values to variables using `=` such as `time_of_day = \"afternoon\"` to drive logic.\n",
    "- **Output with print()**: Use `print()` to display appropriate greetings based on the condition matched.\n",
    "- **Handling Unknown Cases**: The `else` block ensures the program responds even when the input doesn't match predefined options.\n",
    "- **Code Expansion**: New conditions like `elif time_of_day == \"night\"` can be added to make the program more complete and realistic."
   ]
  },
  {
   "cell_type": "markdown",
   "metadata": {},
   "source": [
    "## 3.7 Initial prompt to understand how to use operators in Python:"
   ]
  },
  {
   "cell_type": "markdown",
   "metadata": {},
   "source": [
    "## Initial Prompt\n",
    "- **I posed a question to Copilot**： “Could you suggest a modification of the Python code for “Hello, world!” to demonstrate the concept of operators to a complete beginner in programming? Please explain the code step-by-step highlighting any key aspects. Include discussions about\n",
    "addition and multiplication between strings and numbers.” Here's the answer I got from Copilot:"
   ]
  },
  {
   "cell_type": "code",
   "execution_count": 73,
   "metadata": {},
   "outputs": [
    {
     "name": "stdout",
     "output_type": "stream",
     "text": [
      "Hello, world!\n",
      "Hello, world!\n",
      "Hello! Hello! Hello! \n",
      "Sum of 5 and 3 is: 8\n",
      "Product of 4 and 2 is: 8\n"
     ]
    }
   ],
   "source": [
    "# Original \"Hello, world!\" code\n",
    "print(\"Hello, world!\")\n",
    "\n",
    "# Modified code to demonstrate operators\n",
    "# Addition of strings\n",
    "greeting = \"Hello, \" + \"world!\"\n",
    "print(greeting)\n",
    "\n",
    "# Multiplication of strings\n",
    "echo = \"Hello! \" * 3\n",
    "print(echo)\n",
    "\n",
    "# Addition of numbers\n",
    "sum_result = 5 + 3\n",
    "print(\"Sum of 5 and 3 is:\", sum_result)\n",
    "\n",
    "# Multiplication of numbers\n",
    "product_result = 4 * 2\n",
    "print(\"Product of 4 and 2 is:\", product_result)\n"
   ]
  },
  {
   "cell_type": "markdown",
   "metadata": {},
   "source": [
    "## Suggested Prompts\n",
    "- **I posed another question to Copilot**：“What are other operators in Python?” Here's the answer I got from Copilot:"
   ]
  },
  {
   "cell_type": "markdown",
   "metadata": {},
   "source": [
    "Addition (+): Adds two operands."
   ]
  },
  {
   "cell_type": "code",
   "execution_count": 74,
   "metadata": {},
   "outputs": [],
   "source": [
    "result = 5 + 3  # result is 8"
   ]
  },
  {
   "cell_type": "markdown",
   "metadata": {},
   "source": [
    "Subtraction (-): Subtracts the second operand from the first."
   ]
  },
  {
   "cell_type": "code",
   "execution_count": 75,
   "metadata": {},
   "outputs": [],
   "source": [
    "result = 5 - 3  # result is 2"
   ]
  },
  {
   "cell_type": "markdown",
   "metadata": {},
   "source": [
    "Division (/): Divides the first operand by the second."
   ]
  },
  {
   "cell_type": "code",
   "execution_count": 76,
   "metadata": {},
   "outputs": [],
   "source": [
    "result = 5 / 3  # result is approximately 1.673"
   ]
  },
  {
   "cell_type": "markdown",
   "metadata": {},
   "source": [
    "## My Own Prompts\n",
    "- **I posed another question to Copilot**：“Can you write a Python program that takes two numbers from the user and prints the result of addition, subtraction, multiplication, and division, along with a custom greeting that repeats 2 times?” Here's the answer I got from Copilot:"
   ]
  },
  {
   "cell_type": "code",
   "execution_count": 77,
   "metadata": {},
   "outputs": [
    {
     "name": "stdout",
     "output_type": "stream",
     "text": [
      "Addition of 2.0 and 3.0 is: 5.0\n",
      "Subtraction of 2.0 and 3.0 is: -1.0\n",
      "Multiplication of 2.0 and 3.0 is: 6.0\n",
      "Division of 2.0 and 3.0 is: 0.6666666666666666\n",
      "Hello, user! Hello, user! \n"
     ]
    }
   ],
   "source": [
    "# Function to perform arithmetic operations\n",
    "def arithmetic_operations(num1, num2):\n",
    "    addition = num1 + num2\n",
    "    subtraction = num1 - num2\n",
    "    multiplication = num1 * num2\n",
    "    division = num1 / num2 if num2 != 0 else \"undefined (division by zero)\"\n",
    "    \n",
    "    return addition, subtraction, multiplication, division\n",
    "\n",
    "# Function to print custom greeting\n",
    "def custom_greeting(greeting):\n",
    "    print(greeting * 2)\n",
    "\n",
    "# Main program\n",
    "def main():\n",
    "    # Taking input from the user\n",
    "    num1 = float(input(\"Enter the first number: \"))\n",
    "    num2 = float(input(\"Enter the second number: \"))\n",
    "    \n",
    "    # Performing arithmetic operations\n",
    "    addition, subtraction, multiplication, division = arithmetic_operations(num1, num2)\n",
    "    \n",
    "    # Printing the results\n",
    "    print(f\"Addition of {num1} and {num2} is: {addition}\")\n",
    "    print(f\"Subtraction of {num1} and {num2} is: {subtraction}\")\n",
    "    print(f\"Multiplication of {num1} and {num2} is: {multiplication}\")\n",
    "    print(f\"Division of {num1} and {num2} is: {division}\")\n",
    "    \n",
    "    # Custom greeting\n",
    "    greeting = \"Hello, user! \"\n",
    "    custom_greeting(greeting)\n",
    "\n",
    "# Running the main program\n",
    "if __name__ == \"__main__\":\n",
    "    main()\n"
   ]
  },
  {
   "cell_type": "markdown",
   "metadata": {},
   "source": [
    "## Key Learning Outcomes：\n",
    "\n",
    "- **Function Definition**: Use `def function_name():` to group reusable code blocks and improve program structure.  \n",
    "- **Arithmetic Operations**: Perform operations like `+`, `-`, `*`, and `/` to calculate mathematical results using variables.  \n",
    "- **Conditional Division Handling**: Use a conditional expression `if num2 != 0 else` to avoid division by zero errors.  \n",
    "- **User Input**: `input()` is used to take dynamic input from users, and `float()` converts it to a number.  \n",
    "- **Formatted Output**: Use f-strings (e.g., `f\"Addition of {num1} and {num2} is: {addition}\"`) for clear, readable output.  \n",
    "- **String Multiplication**: `greeting * 2` repeats a custom message multiple times for a fun and engaging output.  \n",
    "- **Main Function Structure**: Use `if __name__ == \"__main__\":` to run code only when the file is executed directly, following Python best practices.  "
   ]
  },
  {
   "cell_type": "markdown",
   "metadata": {},
   "source": [
    "## 3.8 Initial prompt to understand how to use advanced concepts such as classes, objects, and methods (try one term at a time if it is too much to handle at once):"
   ]
  },
  {
   "cell_type": "markdown",
   "metadata": {},
   "source": [
    "## Initial Prompt\n",
    "- **I posed a question to Copilot**： “Could you suggest a modification of the Python code for “Hello, world!” to demonstrate the concept of classes, objects and methods to a complete beginner in programming? Please explain the code step-by-step highlighting any key aspects.” Here's the answer I got from Copilot:"
   ]
  },
  {
   "cell_type": "code",
   "execution_count": 78,
   "metadata": {},
   "outputs": [
    {
     "name": "stdout",
     "output_type": "stream",
     "text": [
      "Hello, world!\n"
     ]
    }
   ],
   "source": [
    "# Define a class named Greeting\n",
    "class Greeting:\n",
    "    # Initialize the class with a message attribute\n",
    "    def __init__(self, message):\n",
    "        self.message = message\n",
    "\n",
    "    # Define a method to display the message\n",
    "    def display_message(self):\n",
    "        print(self.message)\n",
    "\n",
    "# Create an object of the Greeting class\n",
    "hello_world = Greeting(\"Hello, world!\")\n",
    "\n",
    "# Call the method to display the message\n",
    "hello_world.display_message()"
   ]
  },
  {
   "cell_type": "markdown",
   "metadata": {},
   "source": [
    "## Suggested Prompts\n",
    "- **I posed another question to Copilot**：“What are attributes in detail?” Here's the answer I got from Copilot:"
   ]
  },
  {
   "cell_type": "markdown",
   "metadata": {},
   "source": [
    "## Instance Attributes:\n",
    "\n",
    "These are attributes that are specific to each instance (object) of a class. They are defined within the __init__ method or other methods using self.\n",
    "Example:"
   ]
  },
  {
   "cell_type": "code",
   "execution_count": 79,
   "metadata": {},
   "outputs": [],
   "source": [
    "class Car:\n",
    "    def __init__(self, color, model):\n",
    "        self.color = color  # Instance attribute\n",
    "        self.model = model  # Instance attribute"
   ]
  },
  {
   "cell_type": "markdown",
   "metadata": {},
   "source": [
    "## Class Attributes:\n",
    "\n",
    "These are attributes that are shared among all instances of a class. They are defined directly within the class, outside any methods.\n",
    "Example:"
   ]
  },
  {
   "cell_type": "code",
   "execution_count": 80,
   "metadata": {},
   "outputs": [],
   "source": [
    "class Car:\n",
    "    wheels = 4  # Class attribute\n",
    "\n",
    "    def __init__(self, color, model):\n",
    "        self.color = color\n",
    "        self.model = model\n"
   ]
  },
  {
   "cell_type": "markdown",
   "metadata": {},
   "source": [
    "## My Own Prompts\n",
    "- **I posed another question to Copilot**：“What is the difference between a class attribute and an instance attribute in Python, and how can you access each of them through an object? Provide examples using the Car class.” Here's the answer I got from Copilot:"
   ]
  },
  {
   "cell_type": "code",
   "execution_count": 81,
   "metadata": {},
   "outputs": [
    {
     "name": "stdout",
     "output_type": "stream",
     "text": [
      "4\n",
      "4\n",
      "4\n",
      "red\n",
      "Toyota\n",
      "blue\n",
      "Honda\n",
      "6\n",
      "6\n",
      "6\n",
      "green\n",
      "blue\n"
     ]
    }
   ],
   "source": [
    "class Car:\n",
    "    # Class attribute\n",
    "    wheels = 4\n",
    "\n",
    "    def __init__(self, color, model):\n",
    "        # Instance attributes\n",
    "        self.color = color\n",
    "        self.model = model\n",
    "\n",
    "# Creating instances of the Car class\n",
    "car1 = Car(\"red\", \"Toyota\")\n",
    "car2 = Car(\"blue\", \"Honda\")\n",
    "\n",
    "# Accessing class attribute\n",
    "print(Car.wheels)  # Output: 4\n",
    "print(car1.wheels)  # Output: 4\n",
    "print(car2.wheels)  # Output: 4\n",
    "\n",
    "# Accessing instance attributes\n",
    "print(car1.color)  # Output: red\n",
    "print(car1.model)  # Output: Toyota\n",
    "print(car2.color)  # Output: blue\n",
    "print(car2.model)  # Output: Honda\n",
    "\n",
    "# Modifying class attribute\n",
    "Car.wheels = 6\n",
    "print(Car.wheels)  # Output: 6\n",
    "print(car1.wheels)  # Output: 6\n",
    "print(car2.wheels)  # Output: 6\n",
    "\n",
    "# Modifying instance attributes\n",
    "car1.color = \"green\"\n",
    "print(car1.color)  # Output: green\n",
    "print(car2.color)  # Output: blue\n"
   ]
  },
  {
   "cell_type": "markdown",
   "metadata": {},
   "source": [
    "## Key Learning Outcomes\n",
    "\n",
    "- **Class Definition**: Use `class ClassName:` to define a blueprint for creating objects with shared attributes and methods.\n",
    "- **Instance Initialization**: The `__init__` method initializes object attributes when an instance is created.\n",
    "- **Method Usage**: Define methods (e.g., `display_message()`) to encapsulate object behavior and enable reusable functionality."
   ]
  },
  {
   "cell_type": "markdown",
   "metadata": {},
   "source": [
    "## 3.9 Initial prompt to learn more about basic Python syntax:"
   ]
  },
  {
   "cell_type": "markdown",
   "metadata": {},
   "source": [
    "## Initial Prompts\n",
    "- **I posed a question to Copilot**： “Could you use the examples you have provided above to explain basic syntax of Python to a complete beginner in programming? Please explain step-by-step highlighting any key aspects. Please include well known references to Python styling guides.” Here's the answer I got from Copilot:"
   ]
  },
  {
   "cell_type": "code",
   "execution_count": 82,
   "metadata": {},
   "outputs": [
    {
     "name": "stdout",
     "output_type": "stream",
     "text": [
      "0\n",
      "1\n",
      "2\n",
      "3\n",
      "4\n",
      "0\n",
      "1\n",
      "2\n",
      "3\n",
      "4\n",
      "apple\n"
     ]
    }
   ],
   "source": [
    "# For loop\n",
    "for i in range(5):\n",
    "    print(i)\n",
    "\n",
    "# While loop\n",
    "count = 0\n",
    "while count < 5:\n",
    "    print(count)\n",
    "    count += 1\n",
    " \n",
    "# Creating a list\n",
    "fruits = [\"apple\", \"banana\", \"cherry\"]\n",
    "\n",
    "# Accessing elements\n",
    "print(fruits[0])  # Output: apple\n",
    "\n",
    "# Adding elements\n",
    "fruits.append(\"orange\")\n",
    "\n",
    "# Arithmetic operations\n",
    "sum = 5 + 3\n",
    "difference = 10 - 2\n",
    "product = 4 * 2\n",
    "quotient = 8 / 2\n"
   ]
  },
  {
   "cell_type": "markdown",
   "metadata": {},
   "source": [
    "## Suggested Prompts\n",
    "- **I posed another question to Copilot**：“What are some common libraries in Python?” Here's the answer I got from Copilot:"
   ]
  },
  {
   "cell_type": "markdown",
   "metadata": {},
   "source": [
    "## NumPy\n",
    "Purpose: Numerical computing.\n",
    "Features: Provides support for arrays, matrices, and many mathematical functions.\n",
    "Example:"
   ]
  },
  {
   "cell_type": "code",
   "execution_count": 83,
   "metadata": {},
   "outputs": [
    {
     "name": "stdout",
     "output_type": "stream",
     "text": [
      "[1 2 3]\n"
     ]
    }
   ],
   "source": [
    "import numpy as np\n",
    "arr = np.array([1, 2, 3])\n",
    "print(arr)\n"
   ]
  },
  {
   "cell_type": "markdown",
   "metadata": {},
   "source": [
    "## Pandas\n",
    "Purpose: Data manipulation and analysis.\n",
    "Features: Offers data structures like DataFrames for handling structured data.\n",
    "Example:"
   ]
  },
  {
   "cell_type": "code",
   "execution_count": 84,
   "metadata": {},
   "outputs": [
    {
     "name": "stdout",
     "output_type": "stream",
     "text": [
      "   A  B\n",
      "0  1  3\n",
      "1  2  4\n"
     ]
    }
   ],
   "source": [
    "import pandas as pd\n",
    "df = pd.DataFrame({'A': [1, 2], 'B': [3, 4]})\n",
    "print(df)\n"
   ]
  },
  {
   "cell_type": "markdown",
   "metadata": {},
   "source": [
    "## Matplotlib\n",
    "Purpose: Data visualization.\n",
    "Features: Enables the creation of static, interactive, and animated plots.\n",
    "Example:"
   ]
  },
  {
   "cell_type": "code",
   "execution_count": 85,
   "metadata": {},
   "outputs": [
    {
     "data": {
      "image/png": "[encoded data removed]",
      "text/plain": [
       "<Figure size 640x480 with 1 Axes>"
      ]
     },
     "metadata": {},
     "output_type": "display_data"
    }
   ],
   "source": [
    "import matplotlib.pyplot as plt\n",
    "plt.plot([1, 2, 3], [4, 5, 6])\n",
    "plt.show()\n"
   ]
  },
  {
   "cell_type": "markdown",
   "metadata": {},
   "source": [
    "## My Own Prompts\n",
    "- **I posed another question to Copilot**：“How to create a simple data visualization using basic Python syntax and common libraries?” Here's the answer I got from Copilot:"
   ]
  },
  {
   "cell_type": "code",
   "execution_count": 86,
   "metadata": {},
   "outputs": [
    {
     "data": {
      "image/png": "[encoded data removed]",
      "text/plain": [
       "<Figure size 640x480 with 1 Axes>"
      ]
     },
     "metadata": {},
     "output_type": "display_data"
    }
   ],
   "source": [
    "import pandas as pd\n",
    "import matplotlib.pyplot as plt\n",
    "import seaborn as sns\n",
    "\n",
    "# Create a DataFrame\n",
    "data = pd.DataFrame({\n",
    "    'Category': ['A', 'B', 'C', 'D'],\n",
    "    'Values': [23, 45, 56, 78]\n",
    "})\n",
    "\n",
    "# Create a bar plot with Seaborn\n",
    "sns.barplot(x='Category', y='Values', data=data)\n",
    "\n",
    "# Add title and labels\n",
    "plt.title('Enhanced Bar Plot with Seaborn')\n",
    "plt.xlabel('Category')\n",
    "plt.ylabel('Values')\n",
    "\n",
    "# Show the plot\n",
    "plt.show()\n"
   ]
  },
  {
   "cell_type": "markdown",
   "metadata": {},
   "source": [
    "## Key Learning Outcomes\n",
    "\n",
    "- **Loop Structures**: Use `for` and `while` loops to iterate through sequences and repeat operations until conditions are met.\n",
    "- **List Operations**: Create and manipulate lists with operations like indexing (`fruits[0]`) and appending (`fruits.append(\"orange\")`).\n",
    "- **NumPy Arrays**: Utilize `np.array()` to create and work with numerical arrays for efficient computations.\n",
    "- **Pandas DataFrames**: Construct and manage structured data using `pd.DataFrame()` for tabular data manipulation."
   ]
  },
  {
   "cell_type": "markdown",
   "metadata": {},
   "source": [
    "## 3.9 Initial prompt to learn more about best practice in Python to promote principles of simplicity, security and inclusion:"
   ]
  },
  {
   "cell_type": "markdown",
   "metadata": {},
   "source": [
    "## Initial Prompts\n",
    "- **I posed a question to Copilot**： “Could you suggest three different Python implementations of the Hello World program to emphasise, respectively, principles of simplicity, security, and inclusion? Please explain step-by-step highlighting any key aspects.” Here's the answer I got from Copilot:"
   ]
  },
  {
   "cell_type": "markdown",
   "metadata": {},
   "source": [
    "## Simplicity\n",
    "The simplest way to print \"Hello, World!\" in Python is using the print function. This approach is straightforward and easy to understand, making it ideal for beginners."
   ]
  },
  {
   "cell_type": "code",
   "execution_count": 87,
   "metadata": {},
   "outputs": [
    {
     "name": "stdout",
     "output_type": "stream",
     "text": [
      "Hello, World!\n"
     ]
    }
   ],
   "source": [
    "print(\"Hello, World!\")"
   ]
  },
  {
   "cell_type": "markdown",
   "metadata": {},
   "source": [
    "## Security\n",
    "To emphasize security, we can use a more controlled approach by defining a function and ensuring that the input is sanitized. This is useful in scenarios where the message might come from an external source."
   ]
  },
  {
   "cell_type": "code",
   "execution_count": 88,
   "metadata": {},
   "outputs": [
    {
     "name": "stdout",
     "output_type": "stream",
     "text": [
      "Hello, World!\n"
     ]
    }
   ],
   "source": [
    "def secure_print(message):\n",
    "    if isinstance(message, str):\n",
    "        print(message)\n",
    "    else:\n",
    "        print(\"Invalid input\")\n",
    "\n",
    "secure_print(\"Hello, World!\")"
   ]
  },
  {
   "cell_type": "markdown",
   "metadata": {},
   "source": [
    "## Inclusion\n",
    "To emphasize inclusion, we can use a multilingual approach, allowing the program to greet the user in different languages based on their preference."
   ]
  },
  {
   "cell_type": "code",
   "execution_count": 89,
   "metadata": {},
   "outputs": [
    {
     "name": "stdout",
     "output_type": "stream",
     "text": [
      "こんにちは、世界！\n"
     ]
    }
   ],
   "source": [
    "def inclusive_hello(language=\"en\"):\n",
    "    greetings = {\n",
    "        \"en\": \"Hello, World!\",\n",
    "        \"es\": \"¡Hola, Mundo!\",\n",
    "        \"fr\": \"Bonjour, le Monde!\",\n",
    "        \"jp\": \"こんにちは、世界！\"\n",
    "    }\n",
    "    print(greetings.get(language, \"Hello, World!\"))\n",
    "\n",
    "inclusive_hello(\"jp\")"
   ]
  },
  {
   "cell_type": "markdown",
   "metadata": {},
   "source": [
    "## Suggested Prompts\n",
    "- **I posed another question to Copilot**：“Can you explain more about security in Python?” Here's the answer I got from Copilot:"
   ]
  },
  {
   "cell_type": "markdown",
   "metadata": {},
   "source": [
    "## Input Validation\n",
    "Always validate and sanitize user inputs to prevent injection attacks. For example, if you're accepting user input, ensure it meets the expected format and type."
   ]
  },
  {
   "cell_type": "code",
   "execution_count": 90,
   "metadata": {},
   "outputs": [
    {
     "name": "stdout",
     "output_type": "stream",
     "text": [
      "Hello, 333!\n"
     ]
    }
   ],
   "source": [
    "def validate_input(user_input):\n",
    "    if isinstance(user_input, str) and user_input.isalnum():\n",
    "        return user_input\n",
    "    else:\n",
    "        raise ValueError(\"Invalid input\")\n",
    "\n",
    "user_input = input(\"Enter your name: \")\n",
    "try:\n",
    "    validated_input = validate_input(user_input)\n",
    "    print(f\"Hello, {validated_input}!\")\n",
    "except ValueError as e:\n",
    "    print(e)"
   ]
  },
  {
   "cell_type": "markdown",
   "metadata": {},
   "source": [
    "## Avoiding Hardcoded Secrets\n",
    "Never hardcode sensitive information like passwords, API keys, or tokens in your code. Use environment variables or secure vaults to manage secrets."
   ]
  },
  {
   "cell_type": "code",
   "execution_count": 93,
   "metadata": {},
   "outputs": [
    {
     "name": "stdout",
     "output_type": "stream",
     "text": [
      "API Key not found\n"
     ]
    }
   ],
   "source": [
    "import os\n",
    "\n",
    "api_key = os.getenv(\"API_KEY\")\n",
    "if api_key:\n",
    "    print(\"API Key retrieved successfully\")\n",
    "else:\n",
    "    print(\"API Key not found\")\n"
   ]
  },
  {
   "cell_type": "markdown",
   "metadata": {},
   "source": [
    "## My Own Prompts\n",
    "- **I posed another question to Copilot**：“How to improve the 'Hello World' program with security checks and multilingual features?” Here's the answer I got from Copilot:"
   ]
  },
  {
   "cell_type": "code",
   "execution_count": 95,
   "metadata": {},
   "outputs": [
    {
     "name": "stdout",
     "output_type": "stream",
     "text": [
      "Invalid input. Please enter a valid name and language code.\n"
     ]
    }
   ],
   "source": [
    "import re\n",
    "\n",
    "def is_valid_name(name):\n",
    "    return bool(re.match(\"^[A-Za-z]+$\", name))\n",
    "\n",
    "greetings = {\n",
    "    \"en\": \"Hello\",\n",
    "    \"es\": \"Hola\",\n",
    "    \"fr\": \"Bonjour\",\n",
    "    \"de\": \"Hallo\",\n",
    "    \"jp\": \"こんにちは\"\n",
    "}\n",
    "\n",
    "try:\n",
    "    name = input(\"Enter your name: \")\n",
    "    language = input(\"Enter your language code (en/es/fr/de/jp): \")\n",
    "\n",
    "    if is_valid_name(name) and language in greetings:\n",
    "        print(f\"{greetings[language]}, {name}!\")\n",
    "    else:\n",
    "        print(\"Invalid input. Please enter a valid name and language code.\")\n",
    "except Exception as e:\n",
    "    print(f\"An error occurred: {e}\")"
   ]
  },
  {
   "cell_type": "markdown",
   "metadata": {},
   "source": [
    "## Key Learning Outcomes:\n",
    "**Security Practices**:\n",
    "- Store sensitive data like API keys in environment variables (`os.getenv(\"API_KEY\")`)\n",
    "- Never hardcode credentials in source code\n",
    "- Validate all external inputs before processing\n",
    "\n",
    "**Code Organization**:\n",
    "- Follow single-responsibility principle for functions\n",
    "- Use docstrings to document function purpose and usage\n",
    "- Implement `if __name__ == \"__main__\":` for executable script sections\n",
    "- Group related functionality into logical units"
   ]
  }
 ],
 "metadata": {
  "kernelspec": {
   "display_name": "Python 3",
   "language": "python",
   "name": "python3"
  },
  "language_info": {
   "codemirror_mode": {
    "name": "ipython",
    "version": 3
   },
   "file_extension": ".py",
   "mimetype": "text/x-python",
   "name": "python",
   "nbconvert_exporter": "python",
   "pygments_lexer": "ipython3",
   "version": "3.12.1"
  }
 },
 "nbformat": 4,
 "nbformat_minor": 2
}
