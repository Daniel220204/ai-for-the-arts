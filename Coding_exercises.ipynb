{
 "cells": [
  {
   "cell_type": "code",
   "execution_count": null,
   "metadata": {},
   "outputs": [],
   "source": []
  },
  {
   "cell_type": "markdown",
   "metadata": {},
   "source": [
    "# Learning Basic Programming Concepts\n",
    "\n",
    "This notebook is designed to help me understand and practice the fundamentals of programming. By working through various exercises and examples, I aim to develop a solid foundation that will enable me to tackle real-world programming tasks.\n",
    "\n",
    "## Objectives\n",
    "- Understand the basics of programming, such as variables, loops, and functions.\n",
    "- Learn how to solve problems algorithmically.\n",
    "- Gain confidence in writing and debugging code.\n",
    "- Explore specific programming tasks I’ve always wanted to do, such as:\n",
    "  - Automating repetitive tasks.\n",
    "  - Analyzing and visualizing data.\n",
    "  - Building simple interactive applications.\n"
   ]
  },
  {
   "cell_type": "markdown",
   "metadata": {},
   "source": [
    "# Hello, World! \n",
    "\n",
    "The following code was created as my first attempt at programming in this course. It is meant to help me understand how to write and run code in GitHub Codespaces."
   ]
  },
  {
   "cell_type": "code",
